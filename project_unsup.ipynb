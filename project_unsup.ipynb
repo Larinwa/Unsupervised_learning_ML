{
  "cells": [
    {
      "cell_type": "markdown",
      "metadata": {
        "id": "view-in-github",
        "colab_type": "text"
      },
      "source": [
        "<a href=\"https://colab.research.google.com/gist/Larinwa/3163d9b23721b0326a1b571771815617/project_unsup.ipynb\" target=\"_parent\"><img src=\"https://colab.research.google.com/assets/colab-badge.svg\" alt=\"Open In Colab\"/></a>"
      ]
    },
    {
      "cell_type": "markdown",
      "id": "30f261b0",
      "metadata": {
        "id": "30f261b0"
      },
      "source": [
        "# Uncovering Global Development Patterns: A Clustering Approach to Aid Distribution for HELP International\n",
        "\n",
        "#### Introduction\n",
        "This project focuses on clustering countries based on socio-economic and health indicators using unsupervised learning techniques, aimed at identifying countries in the most dire need of aid. The project is carried out for HELP International, a humanitarian NGO dedicated to alleviating poverty and providing relief during disasters. With a budget of $10 million, the CEO of HELP International seeks to strategically allocate resources to the countries that need aid the most.\n",
        "\n",
        "The primary objective of this project is to use clustering algorithms to categorize countries based on key indicators that determine overall development. These indicators include:\n",
        "\n",
        "* Child Mortality: The number of child deaths per 1,000 live births, which reflects healthcare quality and access.\n",
        "* Health: A composite measure representing the health infrastructure and services available in the country.\n",
        "* Income: The average income level, serving as a proxy for the overall economic status.\n",
        "* GDP: The Gross Domestic Product of each country, indicating the economic output.\n",
        "* Inflation: The rate of inflation, which affects the economic stability of a country.\n",
        "* Life Expectancy: The average life expectancy, providing insight into the general health and quality of life.\n",
        "* Other factors : Such as exports, imports, and fertility rates, which contribute to the overall development.\n",
        "\n",
        "Using unsupervised learning methods like clustering, this project will categorize countries into groups, helping the CEO prioritize which regions should receive the most assistance. This approach provides a data-driven basis for making critical funding decisions to maximize the impact of HELP International’s efforts."
      ]
    },
    {
      "cell_type": "code",
      "execution_count": null,
      "id": "b466c448",
      "metadata": {
        "id": "b466c448"
      },
      "outputs": [],
      "source": [
        "import pandas as pd\n",
        "import numpy as np\n",
        "\n",
        "import seaborn as sns\n",
        "import matplotlib.pyplot as plt\n",
        "import plotly.express as px\n",
        "\n",
        "from sklearn.cluster import KMeans, DBSCAN\n",
        "from sklearn.metrics import silhouette_score\n",
        "from sklearn.preprocessing import StandardScaler,OneHotEncoder\n",
        "from yellowbrick.cluster import KElbowVisualizer\n",
        "from sklearn.decomposition import PCA"
      ]
    },
    {
      "cell_type": "code",
      "execution_count": null,
      "id": "20d84a31",
      "metadata": {
        "id": "20d84a31"
      },
      "outputs": [],
      "source": [
        "df = pd.read_csv(\"Country-data.csv\")"
      ]
    },
    {
      "cell_type": "code",
      "execution_count": null,
      "id": "0357b0a1",
      "metadata": {
        "id": "0357b0a1",
        "outputId": "fcc50032-c558-465d-cf6a-b8fe292732e6"
      },
      "outputs": [
        {
          "data": {
            "text/html": [
              "<div>\n",
              "<style scoped>\n",
              "    .dataframe tbody tr th:only-of-type {\n",
              "        vertical-align: middle;\n",
              "    }\n",
              "\n",
              "    .dataframe tbody tr th {\n",
              "        vertical-align: top;\n",
              "    }\n",
              "\n",
              "    .dataframe thead th {\n",
              "        text-align: right;\n",
              "    }\n",
              "</style>\n",
              "<table border=\"1\" class=\"dataframe\">\n",
              "  <thead>\n",
              "    <tr style=\"text-align: right;\">\n",
              "      <th></th>\n",
              "      <th>country</th>\n",
              "      <th>child_mort</th>\n",
              "      <th>exports</th>\n",
              "      <th>health</th>\n",
              "      <th>imports</th>\n",
              "      <th>income</th>\n",
              "      <th>inflation</th>\n",
              "      <th>life_expec</th>\n",
              "      <th>total_fer</th>\n",
              "      <th>gdpp</th>\n",
              "    </tr>\n",
              "  </thead>\n",
              "  <tbody>\n",
              "    <tr>\n",
              "      <th>0</th>\n",
              "      <td>Afghanistan</td>\n",
              "      <td>90.2</td>\n",
              "      <td>10.0</td>\n",
              "      <td>7.58</td>\n",
              "      <td>44.9</td>\n",
              "      <td>1610</td>\n",
              "      <td>9.44</td>\n",
              "      <td>56.2</td>\n",
              "      <td>5.82</td>\n",
              "      <td>553</td>\n",
              "    </tr>\n",
              "    <tr>\n",
              "      <th>1</th>\n",
              "      <td>Albania</td>\n",
              "      <td>16.6</td>\n",
              "      <td>28.0</td>\n",
              "      <td>6.55</td>\n",
              "      <td>48.6</td>\n",
              "      <td>9930</td>\n",
              "      <td>4.49</td>\n",
              "      <td>76.3</td>\n",
              "      <td>1.65</td>\n",
              "      <td>4090</td>\n",
              "    </tr>\n",
              "    <tr>\n",
              "      <th>2</th>\n",
              "      <td>Algeria</td>\n",
              "      <td>27.3</td>\n",
              "      <td>38.4</td>\n",
              "      <td>4.17</td>\n",
              "      <td>31.4</td>\n",
              "      <td>12900</td>\n",
              "      <td>16.10</td>\n",
              "      <td>76.5</td>\n",
              "      <td>2.89</td>\n",
              "      <td>4460</td>\n",
              "    </tr>\n",
              "    <tr>\n",
              "      <th>3</th>\n",
              "      <td>Angola</td>\n",
              "      <td>119.0</td>\n",
              "      <td>62.3</td>\n",
              "      <td>2.85</td>\n",
              "      <td>42.9</td>\n",
              "      <td>5900</td>\n",
              "      <td>22.40</td>\n",
              "      <td>60.1</td>\n",
              "      <td>6.16</td>\n",
              "      <td>3530</td>\n",
              "    </tr>\n",
              "    <tr>\n",
              "      <th>4</th>\n",
              "      <td>Antigua and Barbuda</td>\n",
              "      <td>10.3</td>\n",
              "      <td>45.5</td>\n",
              "      <td>6.03</td>\n",
              "      <td>58.9</td>\n",
              "      <td>19100</td>\n",
              "      <td>1.44</td>\n",
              "      <td>76.8</td>\n",
              "      <td>2.13</td>\n",
              "      <td>12200</td>\n",
              "    </tr>\n",
              "    <tr>\n",
              "      <th>...</th>\n",
              "      <td>...</td>\n",
              "      <td>...</td>\n",
              "      <td>...</td>\n",
              "      <td>...</td>\n",
              "      <td>...</td>\n",
              "      <td>...</td>\n",
              "      <td>...</td>\n",
              "      <td>...</td>\n",
              "      <td>...</td>\n",
              "      <td>...</td>\n",
              "    </tr>\n",
              "    <tr>\n",
              "      <th>162</th>\n",
              "      <td>Vanuatu</td>\n",
              "      <td>29.2</td>\n",
              "      <td>46.6</td>\n",
              "      <td>5.25</td>\n",
              "      <td>52.7</td>\n",
              "      <td>2950</td>\n",
              "      <td>2.62</td>\n",
              "      <td>63.0</td>\n",
              "      <td>3.50</td>\n",
              "      <td>2970</td>\n",
              "    </tr>\n",
              "    <tr>\n",
              "      <th>163</th>\n",
              "      <td>Venezuela</td>\n",
              "      <td>17.1</td>\n",
              "      <td>28.5</td>\n",
              "      <td>4.91</td>\n",
              "      <td>17.6</td>\n",
              "      <td>16500</td>\n",
              "      <td>45.90</td>\n",
              "      <td>75.4</td>\n",
              "      <td>2.47</td>\n",
              "      <td>13500</td>\n",
              "    </tr>\n",
              "    <tr>\n",
              "      <th>164</th>\n",
              "      <td>Vietnam</td>\n",
              "      <td>23.3</td>\n",
              "      <td>72.0</td>\n",
              "      <td>6.84</td>\n",
              "      <td>80.2</td>\n",
              "      <td>4490</td>\n",
              "      <td>12.10</td>\n",
              "      <td>73.1</td>\n",
              "      <td>1.95</td>\n",
              "      <td>1310</td>\n",
              "    </tr>\n",
              "    <tr>\n",
              "      <th>165</th>\n",
              "      <td>Yemen</td>\n",
              "      <td>56.3</td>\n",
              "      <td>30.0</td>\n",
              "      <td>5.18</td>\n",
              "      <td>34.4</td>\n",
              "      <td>4480</td>\n",
              "      <td>23.60</td>\n",
              "      <td>67.5</td>\n",
              "      <td>4.67</td>\n",
              "      <td>1310</td>\n",
              "    </tr>\n",
              "    <tr>\n",
              "      <th>166</th>\n",
              "      <td>Zambia</td>\n",
              "      <td>83.1</td>\n",
              "      <td>37.0</td>\n",
              "      <td>5.89</td>\n",
              "      <td>30.9</td>\n",
              "      <td>3280</td>\n",
              "      <td>14.00</td>\n",
              "      <td>52.0</td>\n",
              "      <td>5.40</td>\n",
              "      <td>1460</td>\n",
              "    </tr>\n",
              "  </tbody>\n",
              "</table>\n",
              "<p>167 rows × 10 columns</p>\n",
              "</div>"
            ],
            "text/plain": [
              "                 country  child_mort  exports  health  imports  income  \\\n",
              "0            Afghanistan        90.2     10.0    7.58     44.9    1610   \n",
              "1                Albania        16.6     28.0    6.55     48.6    9930   \n",
              "2                Algeria        27.3     38.4    4.17     31.4   12900   \n",
              "3                 Angola       119.0     62.3    2.85     42.9    5900   \n",
              "4    Antigua and Barbuda        10.3     45.5    6.03     58.9   19100   \n",
              "..                   ...         ...      ...     ...      ...     ...   \n",
              "162              Vanuatu        29.2     46.6    5.25     52.7    2950   \n",
              "163            Venezuela        17.1     28.5    4.91     17.6   16500   \n",
              "164              Vietnam        23.3     72.0    6.84     80.2    4490   \n",
              "165                Yemen        56.3     30.0    5.18     34.4    4480   \n",
              "166               Zambia        83.1     37.0    5.89     30.9    3280   \n",
              "\n",
              "     inflation  life_expec  total_fer   gdpp  \n",
              "0         9.44        56.2       5.82    553  \n",
              "1         4.49        76.3       1.65   4090  \n",
              "2        16.10        76.5       2.89   4460  \n",
              "3        22.40        60.1       6.16   3530  \n",
              "4         1.44        76.8       2.13  12200  \n",
              "..         ...         ...        ...    ...  \n",
              "162       2.62        63.0       3.50   2970  \n",
              "163      45.90        75.4       2.47  13500  \n",
              "164      12.10        73.1       1.95   1310  \n",
              "165      23.60        67.5       4.67   1310  \n",
              "166      14.00        52.0       5.40   1460  \n",
              "\n",
              "[167 rows x 10 columns]"
            ]
          },
          "execution_count": 4,
          "metadata": {},
          "output_type": "execute_result"
        }
      ],
      "source": [
        "df"
      ]
    },
    {
      "cell_type": "code",
      "execution_count": null,
      "id": "283395c6",
      "metadata": {
        "id": "283395c6",
        "outputId": "1839c618-ce33-4543-8bfb-282164afe051"
      },
      "outputs": [
        {
          "name": "stdout",
          "output_type": "stream",
          "text": [
            "<class 'pandas.core.frame.DataFrame'>\n",
            "RangeIndex: 167 entries, 0 to 166\n",
            "Data columns (total 10 columns):\n",
            " #   Column      Non-Null Count  Dtype  \n",
            "---  ------      --------------  -----  \n",
            " 0   country     167 non-null    object \n",
            " 1   child_mort  167 non-null    float64\n",
            " 2   exports     167 non-null    float64\n",
            " 3   health      167 non-null    float64\n",
            " 4   imports     167 non-null    float64\n",
            " 5   income      167 non-null    int64  \n",
            " 6   inflation   167 non-null    float64\n",
            " 7   life_expec  167 non-null    float64\n",
            " 8   total_fer   167 non-null    float64\n",
            " 9   gdpp        167 non-null    int64  \n",
            "dtypes: float64(7), int64(2), object(1)\n",
            "memory usage: 13.2+ KB\n"
          ]
        }
      ],
      "source": [
        "df.info()"
      ]
    },
    {
      "cell_type": "code",
      "execution_count": null,
      "id": "62a64527",
      "metadata": {
        "id": "62a64527",
        "outputId": "d342f315-2a09-49f3-b72f-ab7b2188a0e6"
      },
      "outputs": [
        {
          "data": {
            "text/plain": [
              "country\n",
              "Afghanistan    1\n",
              "Morocco        1\n",
              "Myanmar        1\n",
              "Namibia        1\n",
              "Nepal          1\n",
              "              ..\n",
              "Georgia        1\n",
              "Germany        1\n",
              "Ghana          1\n",
              "Greece         1\n",
              "Zambia         1\n",
              "Name: count, Length: 167, dtype: int64"
            ]
          },
          "execution_count": 6,
          "metadata": {},
          "output_type": "execute_result"
        }
      ],
      "source": [
        "df['country'].value_counts()"
      ]
    },
    {
      "cell_type": "code",
      "execution_count": null,
      "id": "ff106570",
      "metadata": {
        "id": "ff106570"
      },
      "outputs": [],
      "source": [
        "#Encoding the categorical data\n",
        "#Onehotencodng\n",
        "tempo_df=pd.get_dummies(df['country'], dtype=float)\n",
        "df.drop(columns = ['country'], inplace = True)\n",
        "df = pd.concat([df, tempo_df], axis = 1)"
      ]
    },
    {
      "cell_type": "code",
      "execution_count": null,
      "id": "4e091d0e",
      "metadata": {
        "id": "4e091d0e",
        "outputId": "69ea6fd0-9462-4dad-ccef-0b30c182aa09"
      },
      "outputs": [
        {
          "data": {
            "text/html": [
              "<div>\n",
              "<style scoped>\n",
              "    .dataframe tbody tr th:only-of-type {\n",
              "        vertical-align: middle;\n",
              "    }\n",
              "\n",
              "    .dataframe tbody tr th {\n",
              "        vertical-align: top;\n",
              "    }\n",
              "\n",
              "    .dataframe thead th {\n",
              "        text-align: right;\n",
              "    }\n",
              "</style>\n",
              "<table border=\"1\" class=\"dataframe\">\n",
              "  <thead>\n",
              "    <tr style=\"text-align: right;\">\n",
              "      <th></th>\n",
              "      <th>child_mort</th>\n",
              "      <th>exports</th>\n",
              "      <th>health</th>\n",
              "      <th>imports</th>\n",
              "      <th>income</th>\n",
              "      <th>inflation</th>\n",
              "      <th>life_expec</th>\n",
              "      <th>total_fer</th>\n",
              "      <th>gdpp</th>\n",
              "      <th>Afghanistan</th>\n",
              "      <th>...</th>\n",
              "      <th>United Arab Emirates</th>\n",
              "      <th>United Kingdom</th>\n",
              "      <th>United States</th>\n",
              "      <th>Uruguay</th>\n",
              "      <th>Uzbekistan</th>\n",
              "      <th>Vanuatu</th>\n",
              "      <th>Venezuela</th>\n",
              "      <th>Vietnam</th>\n",
              "      <th>Yemen</th>\n",
              "      <th>Zambia</th>\n",
              "    </tr>\n",
              "  </thead>\n",
              "  <tbody>\n",
              "    <tr>\n",
              "      <th>0</th>\n",
              "      <td>90.2</td>\n",
              "      <td>10.0</td>\n",
              "      <td>7.58</td>\n",
              "      <td>44.9</td>\n",
              "      <td>1610</td>\n",
              "      <td>9.440</td>\n",
              "      <td>56.2</td>\n",
              "      <td>5.82</td>\n",
              "      <td>553</td>\n",
              "      <td>1.0</td>\n",
              "      <td>...</td>\n",
              "      <td>0.0</td>\n",
              "      <td>0.0</td>\n",
              "      <td>0.0</td>\n",
              "      <td>0.0</td>\n",
              "      <td>0.0</td>\n",
              "      <td>0.0</td>\n",
              "      <td>0.0</td>\n",
              "      <td>0.0</td>\n",
              "      <td>0.0</td>\n",
              "      <td>0.0</td>\n",
              "    </tr>\n",
              "    <tr>\n",
              "      <th>1</th>\n",
              "      <td>16.6</td>\n",
              "      <td>28.0</td>\n",
              "      <td>6.55</td>\n",
              "      <td>48.6</td>\n",
              "      <td>9930</td>\n",
              "      <td>4.490</td>\n",
              "      <td>76.3</td>\n",
              "      <td>1.65</td>\n",
              "      <td>4090</td>\n",
              "      <td>0.0</td>\n",
              "      <td>...</td>\n",
              "      <td>0.0</td>\n",
              "      <td>0.0</td>\n",
              "      <td>0.0</td>\n",
              "      <td>0.0</td>\n",
              "      <td>0.0</td>\n",
              "      <td>0.0</td>\n",
              "      <td>0.0</td>\n",
              "      <td>0.0</td>\n",
              "      <td>0.0</td>\n",
              "      <td>0.0</td>\n",
              "    </tr>\n",
              "    <tr>\n",
              "      <th>2</th>\n",
              "      <td>27.3</td>\n",
              "      <td>38.4</td>\n",
              "      <td>4.17</td>\n",
              "      <td>31.4</td>\n",
              "      <td>12900</td>\n",
              "      <td>16.100</td>\n",
              "      <td>76.5</td>\n",
              "      <td>2.89</td>\n",
              "      <td>4460</td>\n",
              "      <td>0.0</td>\n",
              "      <td>...</td>\n",
              "      <td>0.0</td>\n",
              "      <td>0.0</td>\n",
              "      <td>0.0</td>\n",
              "      <td>0.0</td>\n",
              "      <td>0.0</td>\n",
              "      <td>0.0</td>\n",
              "      <td>0.0</td>\n",
              "      <td>0.0</td>\n",
              "      <td>0.0</td>\n",
              "      <td>0.0</td>\n",
              "    </tr>\n",
              "    <tr>\n",
              "      <th>3</th>\n",
              "      <td>119.0</td>\n",
              "      <td>62.3</td>\n",
              "      <td>2.85</td>\n",
              "      <td>42.9</td>\n",
              "      <td>5900</td>\n",
              "      <td>22.400</td>\n",
              "      <td>60.1</td>\n",
              "      <td>6.16</td>\n",
              "      <td>3530</td>\n",
              "      <td>0.0</td>\n",
              "      <td>...</td>\n",
              "      <td>0.0</td>\n",
              "      <td>0.0</td>\n",
              "      <td>0.0</td>\n",
              "      <td>0.0</td>\n",
              "      <td>0.0</td>\n",
              "      <td>0.0</td>\n",
              "      <td>0.0</td>\n",
              "      <td>0.0</td>\n",
              "      <td>0.0</td>\n",
              "      <td>0.0</td>\n",
              "    </tr>\n",
              "    <tr>\n",
              "      <th>4</th>\n",
              "      <td>10.3</td>\n",
              "      <td>45.5</td>\n",
              "      <td>6.03</td>\n",
              "      <td>58.9</td>\n",
              "      <td>19100</td>\n",
              "      <td>1.440</td>\n",
              "      <td>76.8</td>\n",
              "      <td>2.13</td>\n",
              "      <td>12200</td>\n",
              "      <td>0.0</td>\n",
              "      <td>...</td>\n",
              "      <td>0.0</td>\n",
              "      <td>0.0</td>\n",
              "      <td>0.0</td>\n",
              "      <td>0.0</td>\n",
              "      <td>0.0</td>\n",
              "      <td>0.0</td>\n",
              "      <td>0.0</td>\n",
              "      <td>0.0</td>\n",
              "      <td>0.0</td>\n",
              "      <td>0.0</td>\n",
              "    </tr>\n",
              "    <tr>\n",
              "      <th>5</th>\n",
              "      <td>14.5</td>\n",
              "      <td>18.9</td>\n",
              "      <td>8.10</td>\n",
              "      <td>16.0</td>\n",
              "      <td>18700</td>\n",
              "      <td>20.900</td>\n",
              "      <td>75.8</td>\n",
              "      <td>2.37</td>\n",
              "      <td>10300</td>\n",
              "      <td>0.0</td>\n",
              "      <td>...</td>\n",
              "      <td>0.0</td>\n",
              "      <td>0.0</td>\n",
              "      <td>0.0</td>\n",
              "      <td>0.0</td>\n",
              "      <td>0.0</td>\n",
              "      <td>0.0</td>\n",
              "      <td>0.0</td>\n",
              "      <td>0.0</td>\n",
              "      <td>0.0</td>\n",
              "      <td>0.0</td>\n",
              "    </tr>\n",
              "    <tr>\n",
              "      <th>6</th>\n",
              "      <td>18.1</td>\n",
              "      <td>20.8</td>\n",
              "      <td>4.40</td>\n",
              "      <td>45.3</td>\n",
              "      <td>6700</td>\n",
              "      <td>7.770</td>\n",
              "      <td>73.3</td>\n",
              "      <td>1.69</td>\n",
              "      <td>3220</td>\n",
              "      <td>0.0</td>\n",
              "      <td>...</td>\n",
              "      <td>0.0</td>\n",
              "      <td>0.0</td>\n",
              "      <td>0.0</td>\n",
              "      <td>0.0</td>\n",
              "      <td>0.0</td>\n",
              "      <td>0.0</td>\n",
              "      <td>0.0</td>\n",
              "      <td>0.0</td>\n",
              "      <td>0.0</td>\n",
              "      <td>0.0</td>\n",
              "    </tr>\n",
              "    <tr>\n",
              "      <th>7</th>\n",
              "      <td>4.8</td>\n",
              "      <td>19.8</td>\n",
              "      <td>8.73</td>\n",
              "      <td>20.9</td>\n",
              "      <td>41400</td>\n",
              "      <td>1.160</td>\n",
              "      <td>82.0</td>\n",
              "      <td>1.93</td>\n",
              "      <td>51900</td>\n",
              "      <td>0.0</td>\n",
              "      <td>...</td>\n",
              "      <td>0.0</td>\n",
              "      <td>0.0</td>\n",
              "      <td>0.0</td>\n",
              "      <td>0.0</td>\n",
              "      <td>0.0</td>\n",
              "      <td>0.0</td>\n",
              "      <td>0.0</td>\n",
              "      <td>0.0</td>\n",
              "      <td>0.0</td>\n",
              "      <td>0.0</td>\n",
              "    </tr>\n",
              "    <tr>\n",
              "      <th>8</th>\n",
              "      <td>4.3</td>\n",
              "      <td>51.3</td>\n",
              "      <td>11.00</td>\n",
              "      <td>47.8</td>\n",
              "      <td>43200</td>\n",
              "      <td>0.873</td>\n",
              "      <td>80.5</td>\n",
              "      <td>1.44</td>\n",
              "      <td>46900</td>\n",
              "      <td>0.0</td>\n",
              "      <td>...</td>\n",
              "      <td>0.0</td>\n",
              "      <td>0.0</td>\n",
              "      <td>0.0</td>\n",
              "      <td>0.0</td>\n",
              "      <td>0.0</td>\n",
              "      <td>0.0</td>\n",
              "      <td>0.0</td>\n",
              "      <td>0.0</td>\n",
              "      <td>0.0</td>\n",
              "      <td>0.0</td>\n",
              "    </tr>\n",
              "    <tr>\n",
              "      <th>9</th>\n",
              "      <td>39.2</td>\n",
              "      <td>54.3</td>\n",
              "      <td>5.88</td>\n",
              "      <td>20.7</td>\n",
              "      <td>16000</td>\n",
              "      <td>13.800</td>\n",
              "      <td>69.1</td>\n",
              "      <td>1.92</td>\n",
              "      <td>5840</td>\n",
              "      <td>0.0</td>\n",
              "      <td>...</td>\n",
              "      <td>0.0</td>\n",
              "      <td>0.0</td>\n",
              "      <td>0.0</td>\n",
              "      <td>0.0</td>\n",
              "      <td>0.0</td>\n",
              "      <td>0.0</td>\n",
              "      <td>0.0</td>\n",
              "      <td>0.0</td>\n",
              "      <td>0.0</td>\n",
              "      <td>0.0</td>\n",
              "    </tr>\n",
              "    <tr>\n",
              "      <th>10</th>\n",
              "      <td>13.8</td>\n",
              "      <td>35.0</td>\n",
              "      <td>7.89</td>\n",
              "      <td>43.7</td>\n",
              "      <td>22900</td>\n",
              "      <td>-0.393</td>\n",
              "      <td>73.8</td>\n",
              "      <td>1.86</td>\n",
              "      <td>28000</td>\n",
              "      <td>0.0</td>\n",
              "      <td>...</td>\n",
              "      <td>0.0</td>\n",
              "      <td>0.0</td>\n",
              "      <td>0.0</td>\n",
              "      <td>0.0</td>\n",
              "      <td>0.0</td>\n",
              "      <td>0.0</td>\n",
              "      <td>0.0</td>\n",
              "      <td>0.0</td>\n",
              "      <td>0.0</td>\n",
              "      <td>0.0</td>\n",
              "    </tr>\n",
              "    <tr>\n",
              "      <th>11</th>\n",
              "      <td>8.6</td>\n",
              "      <td>69.5</td>\n",
              "      <td>4.97</td>\n",
              "      <td>50.9</td>\n",
              "      <td>41100</td>\n",
              "      <td>7.440</td>\n",
              "      <td>76.0</td>\n",
              "      <td>2.16</td>\n",
              "      <td>20700</td>\n",
              "      <td>0.0</td>\n",
              "      <td>...</td>\n",
              "      <td>0.0</td>\n",
              "      <td>0.0</td>\n",
              "      <td>0.0</td>\n",
              "      <td>0.0</td>\n",
              "      <td>0.0</td>\n",
              "      <td>0.0</td>\n",
              "      <td>0.0</td>\n",
              "      <td>0.0</td>\n",
              "      <td>0.0</td>\n",
              "      <td>0.0</td>\n",
              "    </tr>\n",
              "    <tr>\n",
              "      <th>12</th>\n",
              "      <td>49.4</td>\n",
              "      <td>16.0</td>\n",
              "      <td>3.52</td>\n",
              "      <td>21.8</td>\n",
              "      <td>2440</td>\n",
              "      <td>7.140</td>\n",
              "      <td>70.4</td>\n",
              "      <td>2.33</td>\n",
              "      <td>758</td>\n",
              "      <td>0.0</td>\n",
              "      <td>...</td>\n",
              "      <td>0.0</td>\n",
              "      <td>0.0</td>\n",
              "      <td>0.0</td>\n",
              "      <td>0.0</td>\n",
              "      <td>0.0</td>\n",
              "      <td>0.0</td>\n",
              "      <td>0.0</td>\n",
              "      <td>0.0</td>\n",
              "      <td>0.0</td>\n",
              "      <td>0.0</td>\n",
              "    </tr>\n",
              "    <tr>\n",
              "      <th>13</th>\n",
              "      <td>14.2</td>\n",
              "      <td>39.5</td>\n",
              "      <td>7.97</td>\n",
              "      <td>48.7</td>\n",
              "      <td>15300</td>\n",
              "      <td>0.321</td>\n",
              "      <td>76.7</td>\n",
              "      <td>1.78</td>\n",
              "      <td>16000</td>\n",
              "      <td>0.0</td>\n",
              "      <td>...</td>\n",
              "      <td>0.0</td>\n",
              "      <td>0.0</td>\n",
              "      <td>0.0</td>\n",
              "      <td>0.0</td>\n",
              "      <td>0.0</td>\n",
              "      <td>0.0</td>\n",
              "      <td>0.0</td>\n",
              "      <td>0.0</td>\n",
              "      <td>0.0</td>\n",
              "      <td>0.0</td>\n",
              "    </tr>\n",
              "    <tr>\n",
              "      <th>14</th>\n",
              "      <td>5.5</td>\n",
              "      <td>51.4</td>\n",
              "      <td>5.61</td>\n",
              "      <td>64.5</td>\n",
              "      <td>16200</td>\n",
              "      <td>15.100</td>\n",
              "      <td>70.4</td>\n",
              "      <td>1.49</td>\n",
              "      <td>6030</td>\n",
              "      <td>0.0</td>\n",
              "      <td>...</td>\n",
              "      <td>0.0</td>\n",
              "      <td>0.0</td>\n",
              "      <td>0.0</td>\n",
              "      <td>0.0</td>\n",
              "      <td>0.0</td>\n",
              "      <td>0.0</td>\n",
              "      <td>0.0</td>\n",
              "      <td>0.0</td>\n",
              "      <td>0.0</td>\n",
              "      <td>0.0</td>\n",
              "    </tr>\n",
              "    <tr>\n",
              "      <th>15</th>\n",
              "      <td>4.5</td>\n",
              "      <td>76.4</td>\n",
              "      <td>10.70</td>\n",
              "      <td>74.7</td>\n",
              "      <td>41100</td>\n",
              "      <td>1.880</td>\n",
              "      <td>80.0</td>\n",
              "      <td>1.86</td>\n",
              "      <td>44400</td>\n",
              "      <td>0.0</td>\n",
              "      <td>...</td>\n",
              "      <td>0.0</td>\n",
              "      <td>0.0</td>\n",
              "      <td>0.0</td>\n",
              "      <td>0.0</td>\n",
              "      <td>0.0</td>\n",
              "      <td>0.0</td>\n",
              "      <td>0.0</td>\n",
              "      <td>0.0</td>\n",
              "      <td>0.0</td>\n",
              "      <td>0.0</td>\n",
              "    </tr>\n",
              "    <tr>\n",
              "      <th>16</th>\n",
              "      <td>18.8</td>\n",
              "      <td>58.2</td>\n",
              "      <td>5.20</td>\n",
              "      <td>57.5</td>\n",
              "      <td>7880</td>\n",
              "      <td>1.140</td>\n",
              "      <td>71.4</td>\n",
              "      <td>2.71</td>\n",
              "      <td>4340</td>\n",
              "      <td>0.0</td>\n",
              "      <td>...</td>\n",
              "      <td>0.0</td>\n",
              "      <td>0.0</td>\n",
              "      <td>0.0</td>\n",
              "      <td>0.0</td>\n",
              "      <td>0.0</td>\n",
              "      <td>0.0</td>\n",
              "      <td>0.0</td>\n",
              "      <td>0.0</td>\n",
              "      <td>0.0</td>\n",
              "      <td>0.0</td>\n",
              "    </tr>\n",
              "    <tr>\n",
              "      <th>17</th>\n",
              "      <td>111.0</td>\n",
              "      <td>23.8</td>\n",
              "      <td>4.10</td>\n",
              "      <td>37.2</td>\n",
              "      <td>1820</td>\n",
              "      <td>0.885</td>\n",
              "      <td>61.8</td>\n",
              "      <td>5.36</td>\n",
              "      <td>758</td>\n",
              "      <td>0.0</td>\n",
              "      <td>...</td>\n",
              "      <td>0.0</td>\n",
              "      <td>0.0</td>\n",
              "      <td>0.0</td>\n",
              "      <td>0.0</td>\n",
              "      <td>0.0</td>\n",
              "      <td>0.0</td>\n",
              "      <td>0.0</td>\n",
              "      <td>0.0</td>\n",
              "      <td>0.0</td>\n",
              "      <td>0.0</td>\n",
              "    </tr>\n",
              "    <tr>\n",
              "      <th>18</th>\n",
              "      <td>42.7</td>\n",
              "      <td>42.5</td>\n",
              "      <td>5.20</td>\n",
              "      <td>70.7</td>\n",
              "      <td>6420</td>\n",
              "      <td>5.990</td>\n",
              "      <td>72.1</td>\n",
              "      <td>2.38</td>\n",
              "      <td>2180</td>\n",
              "      <td>0.0</td>\n",
              "      <td>...</td>\n",
              "      <td>0.0</td>\n",
              "      <td>0.0</td>\n",
              "      <td>0.0</td>\n",
              "      <td>0.0</td>\n",
              "      <td>0.0</td>\n",
              "      <td>0.0</td>\n",
              "      <td>0.0</td>\n",
              "      <td>0.0</td>\n",
              "      <td>0.0</td>\n",
              "      <td>0.0</td>\n",
              "    </tr>\n",
              "    <tr>\n",
              "      <th>19</th>\n",
              "      <td>46.6</td>\n",
              "      <td>41.2</td>\n",
              "      <td>4.84</td>\n",
              "      <td>34.3</td>\n",
              "      <td>5410</td>\n",
              "      <td>8.780</td>\n",
              "      <td>71.6</td>\n",
              "      <td>3.20</td>\n",
              "      <td>1980</td>\n",
              "      <td>0.0</td>\n",
              "      <td>...</td>\n",
              "      <td>0.0</td>\n",
              "      <td>0.0</td>\n",
              "      <td>0.0</td>\n",
              "      <td>0.0</td>\n",
              "      <td>0.0</td>\n",
              "      <td>0.0</td>\n",
              "      <td>0.0</td>\n",
              "      <td>0.0</td>\n",
              "      <td>0.0</td>\n",
              "      <td>0.0</td>\n",
              "    </tr>\n",
              "  </tbody>\n",
              "</table>\n",
              "<p>20 rows × 176 columns</p>\n",
              "</div>"
            ],
            "text/plain": [
              "    child_mort  exports  health  imports  income  inflation  life_expec  \\\n",
              "0         90.2     10.0    7.58     44.9    1610      9.440        56.2   \n",
              "1         16.6     28.0    6.55     48.6    9930      4.490        76.3   \n",
              "2         27.3     38.4    4.17     31.4   12900     16.100        76.5   \n",
              "3        119.0     62.3    2.85     42.9    5900     22.400        60.1   \n",
              "4         10.3     45.5    6.03     58.9   19100      1.440        76.8   \n",
              "5         14.5     18.9    8.10     16.0   18700     20.900        75.8   \n",
              "6         18.1     20.8    4.40     45.3    6700      7.770        73.3   \n",
              "7          4.8     19.8    8.73     20.9   41400      1.160        82.0   \n",
              "8          4.3     51.3   11.00     47.8   43200      0.873        80.5   \n",
              "9         39.2     54.3    5.88     20.7   16000     13.800        69.1   \n",
              "10        13.8     35.0    7.89     43.7   22900     -0.393        73.8   \n",
              "11         8.6     69.5    4.97     50.9   41100      7.440        76.0   \n",
              "12        49.4     16.0    3.52     21.8    2440      7.140        70.4   \n",
              "13        14.2     39.5    7.97     48.7   15300      0.321        76.7   \n",
              "14         5.5     51.4    5.61     64.5   16200     15.100        70.4   \n",
              "15         4.5     76.4   10.70     74.7   41100      1.880        80.0   \n",
              "16        18.8     58.2    5.20     57.5    7880      1.140        71.4   \n",
              "17       111.0     23.8    4.10     37.2    1820      0.885        61.8   \n",
              "18        42.7     42.5    5.20     70.7    6420      5.990        72.1   \n",
              "19        46.6     41.2    4.84     34.3    5410      8.780        71.6   \n",
              "\n",
              "    total_fer   gdpp  Afghanistan  ...  United Arab Emirates  United Kingdom  \\\n",
              "0        5.82    553          1.0  ...                   0.0             0.0   \n",
              "1        1.65   4090          0.0  ...                   0.0             0.0   \n",
              "2        2.89   4460          0.0  ...                   0.0             0.0   \n",
              "3        6.16   3530          0.0  ...                   0.0             0.0   \n",
              "4        2.13  12200          0.0  ...                   0.0             0.0   \n",
              "5        2.37  10300          0.0  ...                   0.0             0.0   \n",
              "6        1.69   3220          0.0  ...                   0.0             0.0   \n",
              "7        1.93  51900          0.0  ...                   0.0             0.0   \n",
              "8        1.44  46900          0.0  ...                   0.0             0.0   \n",
              "9        1.92   5840          0.0  ...                   0.0             0.0   \n",
              "10       1.86  28000          0.0  ...                   0.0             0.0   \n",
              "11       2.16  20700          0.0  ...                   0.0             0.0   \n",
              "12       2.33    758          0.0  ...                   0.0             0.0   \n",
              "13       1.78  16000          0.0  ...                   0.0             0.0   \n",
              "14       1.49   6030          0.0  ...                   0.0             0.0   \n",
              "15       1.86  44400          0.0  ...                   0.0             0.0   \n",
              "16       2.71   4340          0.0  ...                   0.0             0.0   \n",
              "17       5.36    758          0.0  ...                   0.0             0.0   \n",
              "18       2.38   2180          0.0  ...                   0.0             0.0   \n",
              "19       3.20   1980          0.0  ...                   0.0             0.0   \n",
              "\n",
              "    United States  Uruguay  Uzbekistan  Vanuatu  Venezuela  Vietnam  Yemen  \\\n",
              "0             0.0      0.0         0.0      0.0        0.0      0.0    0.0   \n",
              "1             0.0      0.0         0.0      0.0        0.0      0.0    0.0   \n",
              "2             0.0      0.0         0.0      0.0        0.0      0.0    0.0   \n",
              "3             0.0      0.0         0.0      0.0        0.0      0.0    0.0   \n",
              "4             0.0      0.0         0.0      0.0        0.0      0.0    0.0   \n",
              "5             0.0      0.0         0.0      0.0        0.0      0.0    0.0   \n",
              "6             0.0      0.0         0.0      0.0        0.0      0.0    0.0   \n",
              "7             0.0      0.0         0.0      0.0        0.0      0.0    0.0   \n",
              "8             0.0      0.0         0.0      0.0        0.0      0.0    0.0   \n",
              "9             0.0      0.0         0.0      0.0        0.0      0.0    0.0   \n",
              "10            0.0      0.0         0.0      0.0        0.0      0.0    0.0   \n",
              "11            0.0      0.0         0.0      0.0        0.0      0.0    0.0   \n",
              "12            0.0      0.0         0.0      0.0        0.0      0.0    0.0   \n",
              "13            0.0      0.0         0.0      0.0        0.0      0.0    0.0   \n",
              "14            0.0      0.0         0.0      0.0        0.0      0.0    0.0   \n",
              "15            0.0      0.0         0.0      0.0        0.0      0.0    0.0   \n",
              "16            0.0      0.0         0.0      0.0        0.0      0.0    0.0   \n",
              "17            0.0      0.0         0.0      0.0        0.0      0.0    0.0   \n",
              "18            0.0      0.0         0.0      0.0        0.0      0.0    0.0   \n",
              "19            0.0      0.0         0.0      0.0        0.0      0.0    0.0   \n",
              "\n",
              "    Zambia  \n",
              "0      0.0  \n",
              "1      0.0  \n",
              "2      0.0  \n",
              "3      0.0  \n",
              "4      0.0  \n",
              "5      0.0  \n",
              "6      0.0  \n",
              "7      0.0  \n",
              "8      0.0  \n",
              "9      0.0  \n",
              "10     0.0  \n",
              "11     0.0  \n",
              "12     0.0  \n",
              "13     0.0  \n",
              "14     0.0  \n",
              "15     0.0  \n",
              "16     0.0  \n",
              "17     0.0  \n",
              "18     0.0  \n",
              "19     0.0  \n",
              "\n",
              "[20 rows x 176 columns]"
            ]
          },
          "execution_count": 8,
          "metadata": {},
          "output_type": "execute_result"
        }
      ],
      "source": [
        "df.head(20)"
      ]
    },
    {
      "cell_type": "code",
      "execution_count": null,
      "id": "20c1a58d",
      "metadata": {
        "id": "20c1a58d",
        "outputId": "ee328087-6974-47c3-cb5e-5fe110b81c6e"
      },
      "outputs": [
        {
          "data": {
            "text/html": [
              "<div>\n",
              "<style scoped>\n",
              "    .dataframe tbody tr th:only-of-type {\n",
              "        vertical-align: middle;\n",
              "    }\n",
              "\n",
              "    .dataframe tbody tr th {\n",
              "        vertical-align: top;\n",
              "    }\n",
              "\n",
              "    .dataframe thead th {\n",
              "        text-align: right;\n",
              "    }\n",
              "</style>\n",
              "<table border=\"1\" class=\"dataframe\">\n",
              "  <thead>\n",
              "    <tr style=\"text-align: right;\">\n",
              "      <th></th>\n",
              "      <th>child_mort</th>\n",
              "      <th>exports</th>\n",
              "      <th>health</th>\n",
              "      <th>imports</th>\n",
              "      <th>income</th>\n",
              "      <th>inflation</th>\n",
              "      <th>life_expec</th>\n",
              "      <th>total_fer</th>\n",
              "      <th>gdpp</th>\n",
              "      <th>Afghanistan</th>\n",
              "      <th>...</th>\n",
              "      <th>United Arab Emirates</th>\n",
              "      <th>United Kingdom</th>\n",
              "      <th>United States</th>\n",
              "      <th>Uruguay</th>\n",
              "      <th>Uzbekistan</th>\n",
              "      <th>Vanuatu</th>\n",
              "      <th>Venezuela</th>\n",
              "      <th>Vietnam</th>\n",
              "      <th>Yemen</th>\n",
              "      <th>Zambia</th>\n",
              "    </tr>\n",
              "  </thead>\n",
              "  <tbody>\n",
              "    <tr>\n",
              "      <th>0</th>\n",
              "      <td>1.291532</td>\n",
              "      <td>-1.138280</td>\n",
              "      <td>0.279088</td>\n",
              "      <td>-0.082455</td>\n",
              "      <td>-0.808245</td>\n",
              "      <td>0.157336</td>\n",
              "      <td>-1.619092</td>\n",
              "      <td>1.902882</td>\n",
              "      <td>-0.679180</td>\n",
              "      <td>12.884099</td>\n",
              "      <td>...</td>\n",
              "      <td>-0.077615</td>\n",
              "      <td>-0.077615</td>\n",
              "      <td>-0.077615</td>\n",
              "      <td>-0.077615</td>\n",
              "      <td>-0.077615</td>\n",
              "      <td>-0.077615</td>\n",
              "      <td>-0.077615</td>\n",
              "      <td>-0.077615</td>\n",
              "      <td>-0.077615</td>\n",
              "      <td>-0.077615</td>\n",
              "    </tr>\n",
              "    <tr>\n",
              "      <th>1</th>\n",
              "      <td>-0.538949</td>\n",
              "      <td>-0.479658</td>\n",
              "      <td>-0.097016</td>\n",
              "      <td>0.070837</td>\n",
              "      <td>-0.375369</td>\n",
              "      <td>-0.312347</td>\n",
              "      <td>0.647866</td>\n",
              "      <td>-0.859973</td>\n",
              "      <td>-0.485623</td>\n",
              "      <td>-0.077615</td>\n",
              "      <td>...</td>\n",
              "      <td>-0.077615</td>\n",
              "      <td>-0.077615</td>\n",
              "      <td>-0.077615</td>\n",
              "      <td>-0.077615</td>\n",
              "      <td>-0.077615</td>\n",
              "      <td>-0.077615</td>\n",
              "      <td>-0.077615</td>\n",
              "      <td>-0.077615</td>\n",
              "      <td>-0.077615</td>\n",
              "      <td>-0.077615</td>\n",
              "    </tr>\n",
              "    <tr>\n",
              "      <th>2</th>\n",
              "      <td>-0.272833</td>\n",
              "      <td>-0.099122</td>\n",
              "      <td>-0.966073</td>\n",
              "      <td>-0.641762</td>\n",
              "      <td>-0.220844</td>\n",
              "      <td>0.789274</td>\n",
              "      <td>0.670423</td>\n",
              "      <td>-0.038404</td>\n",
              "      <td>-0.465376</td>\n",
              "      <td>-0.077615</td>\n",
              "      <td>...</td>\n",
              "      <td>-0.077615</td>\n",
              "      <td>-0.077615</td>\n",
              "      <td>-0.077615</td>\n",
              "      <td>-0.077615</td>\n",
              "      <td>-0.077615</td>\n",
              "      <td>-0.077615</td>\n",
              "      <td>-0.077615</td>\n",
              "      <td>-0.077615</td>\n",
              "      <td>-0.077615</td>\n",
              "      <td>-0.077615</td>\n",
              "    </tr>\n",
              "    <tr>\n",
              "      <th>3</th>\n",
              "      <td>2.007808</td>\n",
              "      <td>0.775381</td>\n",
              "      <td>-1.448071</td>\n",
              "      <td>-0.165315</td>\n",
              "      <td>-0.585043</td>\n",
              "      <td>1.387054</td>\n",
              "      <td>-1.179234</td>\n",
              "      <td>2.128151</td>\n",
              "      <td>-0.516268</td>\n",
              "      <td>-0.077615</td>\n",
              "      <td>...</td>\n",
              "      <td>-0.077615</td>\n",
              "      <td>-0.077615</td>\n",
              "      <td>-0.077615</td>\n",
              "      <td>-0.077615</td>\n",
              "      <td>-0.077615</td>\n",
              "      <td>-0.077615</td>\n",
              "      <td>-0.077615</td>\n",
              "      <td>-0.077615</td>\n",
              "      <td>-0.077615</td>\n",
              "      <td>-0.077615</td>\n",
              "    </tr>\n",
              "    <tr>\n",
              "      <th>4</th>\n",
              "      <td>-0.695634</td>\n",
              "      <td>0.160668</td>\n",
              "      <td>-0.286894</td>\n",
              "      <td>0.497568</td>\n",
              "      <td>0.101732</td>\n",
              "      <td>-0.601749</td>\n",
              "      <td>0.704258</td>\n",
              "      <td>-0.541946</td>\n",
              "      <td>-0.041817</td>\n",
              "      <td>-0.077615</td>\n",
              "      <td>...</td>\n",
              "      <td>-0.077615</td>\n",
              "      <td>-0.077615</td>\n",
              "      <td>-0.077615</td>\n",
              "      <td>-0.077615</td>\n",
              "      <td>-0.077615</td>\n",
              "      <td>-0.077615</td>\n",
              "      <td>-0.077615</td>\n",
              "      <td>-0.077615</td>\n",
              "      <td>-0.077615</td>\n",
              "      <td>-0.077615</td>\n",
              "    </tr>\n",
              "  </tbody>\n",
              "</table>\n",
              "<p>5 rows × 176 columns</p>\n",
              "</div>"
            ],
            "text/plain": [
              "   child_mort   exports    health   imports    income  inflation  life_expec  \\\n",
              "0    1.291532 -1.138280  0.279088 -0.082455 -0.808245   0.157336   -1.619092   \n",
              "1   -0.538949 -0.479658 -0.097016  0.070837 -0.375369  -0.312347    0.647866   \n",
              "2   -0.272833 -0.099122 -0.966073 -0.641762 -0.220844   0.789274    0.670423   \n",
              "3    2.007808  0.775381 -1.448071 -0.165315 -0.585043   1.387054   -1.179234   \n",
              "4   -0.695634  0.160668 -0.286894  0.497568  0.101732  -0.601749    0.704258   \n",
              "\n",
              "   total_fer      gdpp  Afghanistan  ...  United Arab Emirates  \\\n",
              "0   1.902882 -0.679180    12.884099  ...             -0.077615   \n",
              "1  -0.859973 -0.485623    -0.077615  ...             -0.077615   \n",
              "2  -0.038404 -0.465376    -0.077615  ...             -0.077615   \n",
              "3   2.128151 -0.516268    -0.077615  ...             -0.077615   \n",
              "4  -0.541946 -0.041817    -0.077615  ...             -0.077615   \n",
              "\n",
              "   United Kingdom  United States   Uruguay  Uzbekistan   Vanuatu  Venezuela  \\\n",
              "0       -0.077615      -0.077615 -0.077615   -0.077615 -0.077615  -0.077615   \n",
              "1       -0.077615      -0.077615 -0.077615   -0.077615 -0.077615  -0.077615   \n",
              "2       -0.077615      -0.077615 -0.077615   -0.077615 -0.077615  -0.077615   \n",
              "3       -0.077615      -0.077615 -0.077615   -0.077615 -0.077615  -0.077615   \n",
              "4       -0.077615      -0.077615 -0.077615   -0.077615 -0.077615  -0.077615   \n",
              "\n",
              "    Vietnam     Yemen    Zambia  \n",
              "0 -0.077615 -0.077615 -0.077615  \n",
              "1 -0.077615 -0.077615 -0.077615  \n",
              "2 -0.077615 -0.077615 -0.077615  \n",
              "3 -0.077615 -0.077615 -0.077615  \n",
              "4 -0.077615 -0.077615 -0.077615  \n",
              "\n",
              "[5 rows x 176 columns]"
            ]
          },
          "execution_count": 9,
          "metadata": {},
          "output_type": "execute_result"
        }
      ],
      "source": [
        "scaler = StandardScaler()\n",
        "scaled_df = scaler.fit_transform(df)\n",
        "scaled_df = pd.DataFrame(data = scaled_df, columns = list(df.columns))\n",
        "scaled_df.head(5)"
      ]
    },
    {
      "cell_type": "code",
      "execution_count": null,
      "id": "84cef651",
      "metadata": {
        "id": "84cef651",
        "outputId": "a8eb1362-fd9e-4327-f4db-e63b0e4b8a07"
      },
      "outputs": [
        {
          "name": "stdout",
          "output_type": "stream",
          "text": [
            "<class 'pandas.core.frame.DataFrame'>\n",
            "RangeIndex: 167 entries, 0 to 166\n",
            "Columns: 176 entries, child_mort to Zambia\n",
            "dtypes: float64(176)\n",
            "memory usage: 229.8 KB\n"
          ]
        }
      ],
      "source": [
        "scaled_df.info()"
      ]
    },
    {
      "cell_type": "code",
      "execution_count": null,
      "id": "117f5768",
      "metadata": {
        "id": "117f5768"
      },
      "outputs": [],
      "source": []
    },
    {
      "cell_type": "code",
      "execution_count": null,
      "id": "ae199c43",
      "metadata": {
        "id": "ae199c43",
        "outputId": "59238b3c-4d06-4c0d-a3b9-e5d9af329b84"
      },
      "outputs": [
        {
          "data": {
            "image/png": "[encoded data removed]",
            "text/plain": [
              "<Figure size 800x500 with 1 Axes>"
            ]
          },
          "metadata": {},
          "output_type": "display_data"
        }
      ],
      "source": [
        "# Apply PCA\n",
        "pca = PCA()\n",
        "pca_data = pca.fit_transform(scaled_df)\n",
        "\n",
        "# Plot cumulative explained variance\n",
        "plt.figure(figsize=(8, 5))\n",
        "plt.plot(range(1, len(pca.explained_variance_ratio_) + 1),\n",
        "         pca.explained_variance_ratio_.cumsum(), marker='o')\n",
        "plt.xlabel('Number of Components')\n",
        "plt.ylabel('Cumulative Explained Variance')\n",
        "plt.show()"
      ]
    },
    {
      "cell_type": "code",
      "execution_count": null,
      "id": "f156b128",
      "metadata": {
        "id": "f156b128",
        "outputId": "02a086dc-06de-47ec-d4c3-c2ad43600981"
      },
      "outputs": [
        {
          "name": "stdout",
          "output_type": "stream",
          "text": [
            "Number of components for 95% variance: 158\n"
          ]
        }
      ],
      "source": [
        "threshold = 0.95  # For 95% variance\n",
        "n_components = next(i for i, cumulative_variance in enumerate(pca.explained_variance_ratio_.cumsum()) if cumulative_variance >= threshold) + 1\n",
        "print(f\"Number of components for 95% variance: {n_components}\")"
      ]
    },
    {
      "cell_type": "code",
      "execution_count": null,
      "id": "5c96f880",
      "metadata": {
        "id": "5c96f880"
      },
      "outputs": [],
      "source": [
        "# Reduce the data to 158 components\n",
        "\n",
        "columns = []\n",
        "for i in range(0, 158):  # Range is fine as 0 to 158\n",
        "    columns.append(f\"cols{i}\")\n",
        "\n",
        "# dimentionality reduction\n",
        "pca = PCA(n_components = 158, random_state = 23)\n",
        "reduced_data = pca.fit_transform(scaled_df)\n",
        "reduced_data = pd.DataFrame(data = reduced_data, columns = columns)"
      ]
    },
    {
      "cell_type": "code",
      "execution_count": null,
      "id": "aa4ddaf5",
      "metadata": {
        "id": "aa4ddaf5",
        "outputId": "c4d071e9-d639-489c-a746-3760dcd815aa"
      },
      "outputs": [
        {
          "data": {
            "text/html": [
              "<div>\n",
              "<style scoped>\n",
              "    .dataframe tbody tr th:only-of-type {\n",
              "        vertical-align: middle;\n",
              "    }\n",
              "\n",
              "    .dataframe tbody tr th {\n",
              "        vertical-align: top;\n",
              "    }\n",
              "\n",
              "    .dataframe thead th {\n",
              "        text-align: right;\n",
              "    }\n",
              "</style>\n",
              "<table border=\"1\" class=\"dataframe\">\n",
              "  <thead>\n",
              "    <tr style=\"text-align: right;\">\n",
              "      <th></th>\n",
              "      <th>cols0</th>\n",
              "      <th>cols1</th>\n",
              "      <th>cols2</th>\n",
              "      <th>cols3</th>\n",
              "      <th>cols4</th>\n",
              "      <th>cols5</th>\n",
              "      <th>cols6</th>\n",
              "      <th>cols7</th>\n",
              "      <th>cols8</th>\n",
              "      <th>cols9</th>\n",
              "      <th>...</th>\n",
              "      <th>cols148</th>\n",
              "      <th>cols149</th>\n",
              "      <th>cols150</th>\n",
              "      <th>cols151</th>\n",
              "      <th>cols152</th>\n",
              "      <th>cols153</th>\n",
              "      <th>cols154</th>\n",
              "      <th>cols155</th>\n",
              "      <th>cols156</th>\n",
              "      <th>cols157</th>\n",
              "    </tr>\n",
              "  </thead>\n",
              "  <tbody>\n",
              "    <tr>\n",
              "      <th>0</th>\n",
              "      <td>-3.248063</td>\n",
              "      <td>0.122848</td>\n",
              "      <td>-0.979269</td>\n",
              "      <td>1.425655</td>\n",
              "      <td>-0.251452</td>\n",
              "      <td>-0.597062</td>\n",
              "      <td>1.203160</td>\n",
              "      <td>1.461119</td>\n",
              "      <td>-0.056670</td>\n",
              "      <td>-0.000000</td>\n",
              "      <td>...</td>\n",
              "      <td>-0.000000</td>\n",
              "      <td>3.756378e-301</td>\n",
              "      <td>-1.388963e-241</td>\n",
              "      <td>3.821516e-197</td>\n",
              "      <td>2.309276e-182</td>\n",
              "      <td>1.592355e-167</td>\n",
              "      <td>-5.972442e-17</td>\n",
              "      <td>4.222596e-123</td>\n",
              "      <td>0.000000</td>\n",
              "      <td>-0.000000</td>\n",
              "    </tr>\n",
              "    <tr>\n",
              "      <th>1</th>\n",
              "      <td>0.479357</td>\n",
              "      <td>-0.755633</td>\n",
              "      <td>-0.454761</td>\n",
              "      <td>-1.646616</td>\n",
              "      <td>0.277448</td>\n",
              "      <td>0.198347</td>\n",
              "      <td>0.781955</td>\n",
              "      <td>-0.778097</td>\n",
              "      <td>0.694202</td>\n",
              "      <td>-0.627504</td>\n",
              "      <td>...</td>\n",
              "      <td>-0.586510</td>\n",
              "      <td>9.916752e-02</td>\n",
              "      <td>-8.573968e-01</td>\n",
              "      <td>-8.332224e-01</td>\n",
              "      <td>9.208671e-01</td>\n",
              "      <td>-1.840875e+00</td>\n",
              "      <td>-3.225160e+00</td>\n",
              "      <td>7.608958e-01</td>\n",
              "      <td>-2.507806</td>\n",
              "      <td>-0.911746</td>\n",
              "    </tr>\n",
              "    <tr>\n",
              "      <th>2</th>\n",
              "      <td>-0.318030</td>\n",
              "      <td>-0.584785</td>\n",
              "      <td>1.665717</td>\n",
              "      <td>-1.231162</td>\n",
              "      <td>0.248536</td>\n",
              "      <td>-0.942025</td>\n",
              "      <td>-0.273973</td>\n",
              "      <td>-0.648273</td>\n",
              "      <td>0.336604</td>\n",
              "      <td>-0.386426</td>\n",
              "      <td>...</td>\n",
              "      <td>-0.102390</td>\n",
              "      <td>-3.035477e-01</td>\n",
              "      <td>-1.571998e+00</td>\n",
              "      <td>3.408178e-01</td>\n",
              "      <td>8.341342e-02</td>\n",
              "      <td>-2.774347e+00</td>\n",
              "      <td>-1.728270e+00</td>\n",
              "      <td>8.661328e-01</td>\n",
              "      <td>0.328150</td>\n",
              "      <td>0.229621</td>\n",
              "    </tr>\n",
              "    <tr>\n",
              "      <th>3</th>\n",
              "      <td>-3.269692</td>\n",
              "      <td>2.178364</td>\n",
              "      <td>2.079641</td>\n",
              "      <td>1.190758</td>\n",
              "      <td>-0.433951</td>\n",
              "      <td>-1.285117</td>\n",
              "      <td>-1.384841</td>\n",
              "      <td>-1.253155</td>\n",
              "      <td>-0.365851</td>\n",
              "      <td>0.127429</td>\n",
              "      <td>...</td>\n",
              "      <td>0.172369</td>\n",
              "      <td>-5.577197e-01</td>\n",
              "      <td>6.983923e-01</td>\n",
              "      <td>-1.281285e+00</td>\n",
              "      <td>-2.050628e-02</td>\n",
              "      <td>3.986693e-01</td>\n",
              "      <td>-1.420894e+00</td>\n",
              "      <td>-1.932302e-05</td>\n",
              "      <td>0.804774</td>\n",
              "      <td>-0.098877</td>\n",
              "    </tr>\n",
              "    <tr>\n",
              "      <th>4</th>\n",
              "      <td>1.152452</td>\n",
              "      <td>0.175572</td>\n",
              "      <td>-0.307807</td>\n",
              "      <td>-1.201306</td>\n",
              "      <td>-0.306562</td>\n",
              "      <td>-0.485250</td>\n",
              "      <td>0.760151</td>\n",
              "      <td>-0.083362</td>\n",
              "      <td>0.377589</td>\n",
              "      <td>-0.085025</td>\n",
              "      <td>...</td>\n",
              "      <td>0.304089</td>\n",
              "      <td>-6.061860e-01</td>\n",
              "      <td>1.104181e-01</td>\n",
              "      <td>2.326475e+00</td>\n",
              "      <td>7.303242e-01</td>\n",
              "      <td>2.464598e+00</td>\n",
              "      <td>-1.219623e-01</td>\n",
              "      <td>2.677474e+00</td>\n",
              "      <td>-1.236507</td>\n",
              "      <td>0.455695</td>\n",
              "    </tr>\n",
              "    <tr>\n",
              "      <th>...</th>\n",
              "      <td>...</td>\n",
              "      <td>...</td>\n",
              "      <td>...</td>\n",
              "      <td>...</td>\n",
              "      <td>...</td>\n",
              "      <td>...</td>\n",
              "      <td>...</td>\n",
              "      <td>...</td>\n",
              "      <td>...</td>\n",
              "      <td>...</td>\n",
              "      <td>...</td>\n",
              "      <td>...</td>\n",
              "      <td>...</td>\n",
              "      <td>...</td>\n",
              "      <td>...</td>\n",
              "      <td>...</td>\n",
              "      <td>...</td>\n",
              "      <td>...</td>\n",
              "      <td>...</td>\n",
              "      <td>...</td>\n",
              "      <td>...</td>\n",
              "    </tr>\n",
              "    <tr>\n",
              "      <th>162</th>\n",
              "      <td>-0.915015</td>\n",
              "      <td>0.821687</td>\n",
              "      <td>-0.531723</td>\n",
              "      <td>-1.002095</td>\n",
              "      <td>-0.628585</td>\n",
              "      <td>0.021245</td>\n",
              "      <td>-0.310178</td>\n",
              "      <td>1.837104</td>\n",
              "      <td>-1.993906</td>\n",
              "      <td>-0.516382</td>\n",
              "      <td>...</td>\n",
              "      <td>0.472093</td>\n",
              "      <td>-6.700118e-01</td>\n",
              "      <td>-5.452787e-02</td>\n",
              "      <td>-5.621722e-02</td>\n",
              "      <td>-3.427102e-01</td>\n",
              "      <td>1.523844e+00</td>\n",
              "      <td>-4.126719e-01</td>\n",
              "      <td>6.308143e-02</td>\n",
              "      <td>-0.256635</td>\n",
              "      <td>-1.268882</td>\n",
              "    </tr>\n",
              "    <tr>\n",
              "      <th>163</th>\n",
              "      <td>-0.614412</td>\n",
              "      <td>-1.585235</td>\n",
              "      <td>4.229186</td>\n",
              "      <td>-0.163534</td>\n",
              "      <td>3.307864</td>\n",
              "      <td>0.228118</td>\n",
              "      <td>0.649439</td>\n",
              "      <td>-0.277403</td>\n",
              "      <td>-1.104434</td>\n",
              "      <td>0.838888</td>\n",
              "      <td>...</td>\n",
              "      <td>0.285617</td>\n",
              "      <td>-2.830356e-01</td>\n",
              "      <td>4.579749e-02</td>\n",
              "      <td>6.413061e-01</td>\n",
              "      <td>8.827704e-02</td>\n",
              "      <td>1.270569e+00</td>\n",
              "      <td>-7.046473e-01</td>\n",
              "      <td>1.536534e-01</td>\n",
              "      <td>-0.458615</td>\n",
              "      <td>0.106943</td>\n",
              "    </tr>\n",
              "    <tr>\n",
              "      <th>164</th>\n",
              "      <td>0.555862</td>\n",
              "      <td>1.786758</td>\n",
              "      <td>-0.325268</td>\n",
              "      <td>-1.523288</td>\n",
              "      <td>1.868026</td>\n",
              "      <td>0.121024</td>\n",
              "      <td>-0.451190</td>\n",
              "      <td>-0.765944</td>\n",
              "      <td>-0.146287</td>\n",
              "      <td>-0.850605</td>\n",
              "      <td>...</td>\n",
              "      <td>0.666699</td>\n",
              "      <td>-3.025238e-01</td>\n",
              "      <td>-3.123229e-01</td>\n",
              "      <td>-6.229192e-01</td>\n",
              "      <td>-8.130948e-01</td>\n",
              "      <td>7.735238e-01</td>\n",
              "      <td>-1.055046e+00</td>\n",
              "      <td>5.182875e-01</td>\n",
              "      <td>0.800173</td>\n",
              "      <td>-0.820218</td>\n",
              "    </tr>\n",
              "    <tr>\n",
              "      <th>165</th>\n",
              "      <td>-2.104534</td>\n",
              "      <td>-0.140620</td>\n",
              "      <td>1.513324</td>\n",
              "      <td>0.079784</td>\n",
              "      <td>0.982180</td>\n",
              "      <td>-1.268516</td>\n",
              "      <td>0.189290</td>\n",
              "      <td>0.315032</td>\n",
              "      <td>-0.384717</td>\n",
              "      <td>0.601152</td>\n",
              "      <td>...</td>\n",
              "      <td>1.351801</td>\n",
              "      <td>-1.139798e-01</td>\n",
              "      <td>-3.750143e-02</td>\n",
              "      <td>-3.276052e-01</td>\n",
              "      <td>2.056498e-01</td>\n",
              "      <td>2.357366e-01</td>\n",
              "      <td>-4.220493e-01</td>\n",
              "      <td>-8.857351e-02</td>\n",
              "      <td>0.095464</td>\n",
              "      <td>-0.722531</td>\n",
              "    </tr>\n",
              "    <tr>\n",
              "      <th>166</th>\n",
              "      <td>-3.193471</td>\n",
              "      <td>0.624386</td>\n",
              "      <td>0.304323</td>\n",
              "      <td>1.157770</td>\n",
              "      <td>-0.435315</td>\n",
              "      <td>0.472256</td>\n",
              "      <td>-1.389082</td>\n",
              "      <td>2.338552</td>\n",
              "      <td>-1.768318</td>\n",
              "      <td>0.177134</td>\n",
              "      <td>...</td>\n",
              "      <td>-0.419261</td>\n",
              "      <td>-1.160400e+00</td>\n",
              "      <td>1.205054e-01</td>\n",
              "      <td>-2.932961e-01</td>\n",
              "      <td>3.692055e-01</td>\n",
              "      <td>-6.246094e-01</td>\n",
              "      <td>1.181162e-01</td>\n",
              "      <td>-5.070908e-01</td>\n",
              "      <td>-0.388090</td>\n",
              "      <td>0.863474</td>\n",
              "    </tr>\n",
              "  </tbody>\n",
              "</table>\n",
              "<p>167 rows × 158 columns</p>\n",
              "</div>"
            ],
            "text/plain": [
              "        cols0     cols1     cols2     cols3     cols4     cols5     cols6  \\\n",
              "0   -3.248063  0.122848 -0.979269  1.425655 -0.251452 -0.597062  1.203160   \n",
              "1    0.479357 -0.755633 -0.454761 -1.646616  0.277448  0.198347  0.781955   \n",
              "2   -0.318030 -0.584785  1.665717 -1.231162  0.248536 -0.942025 -0.273973   \n",
              "3   -3.269692  2.178364  2.079641  1.190758 -0.433951 -1.285117 -1.384841   \n",
              "4    1.152452  0.175572 -0.307807 -1.201306 -0.306562 -0.485250  0.760151   \n",
              "..        ...       ...       ...       ...       ...       ...       ...   \n",
              "162 -0.915015  0.821687 -0.531723 -1.002095 -0.628585  0.021245 -0.310178   \n",
              "163 -0.614412 -1.585235  4.229186 -0.163534  3.307864  0.228118  0.649439   \n",
              "164  0.555862  1.786758 -0.325268 -1.523288  1.868026  0.121024 -0.451190   \n",
              "165 -2.104534 -0.140620  1.513324  0.079784  0.982180 -1.268516  0.189290   \n",
              "166 -3.193471  0.624386  0.304323  1.157770 -0.435315  0.472256 -1.389082   \n",
              "\n",
              "        cols7     cols8     cols9  ...   cols148        cols149  \\\n",
              "0    1.461119 -0.056670 -0.000000  ... -0.000000  3.756378e-301   \n",
              "1   -0.778097  0.694202 -0.627504  ... -0.586510   9.916752e-02   \n",
              "2   -0.648273  0.336604 -0.386426  ... -0.102390  -3.035477e-01   \n",
              "3   -1.253155 -0.365851  0.127429  ...  0.172369  -5.577197e-01   \n",
              "4   -0.083362  0.377589 -0.085025  ...  0.304089  -6.061860e-01   \n",
              "..        ...       ...       ...  ...       ...            ...   \n",
              "162  1.837104 -1.993906 -0.516382  ...  0.472093  -6.700118e-01   \n",
              "163 -0.277403 -1.104434  0.838888  ...  0.285617  -2.830356e-01   \n",
              "164 -0.765944 -0.146287 -0.850605  ...  0.666699  -3.025238e-01   \n",
              "165  0.315032 -0.384717  0.601152  ...  1.351801  -1.139798e-01   \n",
              "166  2.338552 -1.768318  0.177134  ... -0.419261  -1.160400e+00   \n",
              "\n",
              "           cols150        cols151        cols152        cols153       cols154  \\\n",
              "0   -1.388963e-241  3.821516e-197  2.309276e-182  1.592355e-167 -5.972442e-17   \n",
              "1    -8.573968e-01  -8.332224e-01   9.208671e-01  -1.840875e+00 -3.225160e+00   \n",
              "2    -1.571998e+00   3.408178e-01   8.341342e-02  -2.774347e+00 -1.728270e+00   \n",
              "3     6.983923e-01  -1.281285e+00  -2.050628e-02   3.986693e-01 -1.420894e+00   \n",
              "4     1.104181e-01   2.326475e+00   7.303242e-01   2.464598e+00 -1.219623e-01   \n",
              "..             ...            ...            ...            ...           ...   \n",
              "162  -5.452787e-02  -5.621722e-02  -3.427102e-01   1.523844e+00 -4.126719e-01   \n",
              "163   4.579749e-02   6.413061e-01   8.827704e-02   1.270569e+00 -7.046473e-01   \n",
              "164  -3.123229e-01  -6.229192e-01  -8.130948e-01   7.735238e-01 -1.055046e+00   \n",
              "165  -3.750143e-02  -3.276052e-01   2.056498e-01   2.357366e-01 -4.220493e-01   \n",
              "166   1.205054e-01  -2.932961e-01   3.692055e-01  -6.246094e-01  1.181162e-01   \n",
              "\n",
              "           cols155   cols156   cols157  \n",
              "0    4.222596e-123  0.000000 -0.000000  \n",
              "1     7.608958e-01 -2.507806 -0.911746  \n",
              "2     8.661328e-01  0.328150  0.229621  \n",
              "3    -1.932302e-05  0.804774 -0.098877  \n",
              "4     2.677474e+00 -1.236507  0.455695  \n",
              "..             ...       ...       ...  \n",
              "162   6.308143e-02 -0.256635 -1.268882  \n",
              "163   1.536534e-01 -0.458615  0.106943  \n",
              "164   5.182875e-01  0.800173 -0.820218  \n",
              "165  -8.857351e-02  0.095464 -0.722531  \n",
              "166  -5.070908e-01 -0.388090  0.863474  \n",
              "\n",
              "[167 rows x 158 columns]"
            ]
          },
          "execution_count": 14,
          "metadata": {},
          "output_type": "execute_result"
        }
      ],
      "source": [
        "reduced_data"
      ]
    },
    {
      "cell_type": "code",
      "execution_count": null,
      "id": "5cdacb61",
      "metadata": {
        "id": "5cdacb61",
        "outputId": "f145b79c-6eeb-423d-c168-10532748fadb"
      },
      "outputs": [
        {
          "name": "stderr",
          "output_type": "stream",
          "text": [
            "C:\\Users\\hp\\AppData\\Roaming\\Python\\Python311\\site-packages\\sklearn\\cluster\\_kmeans.py:1429: UserWarning: KMeans is known to have a memory leak on Windows with MKL, when there are less chunks than available threads. You can avoid it by setting the environment variable OMP_NUM_THREADS=1.\n",
            "  warnings.warn(\n",
            "C:\\Users\\hp\\AppData\\Roaming\\Python\\Python311\\site-packages\\sklearn\\cluster\\_kmeans.py:1429: UserWarning: KMeans is known to have a memory leak on Windows with MKL, when there are less chunks than available threads. You can avoid it by setting the environment variable OMP_NUM_THREADS=1.\n",
            "  warnings.warn(\n",
            "C:\\Users\\hp\\AppData\\Roaming\\Python\\Python311\\site-packages\\sklearn\\cluster\\_kmeans.py:1429: UserWarning: KMeans is known to have a memory leak on Windows with MKL, when there are less chunks than available threads. You can avoid it by setting the environment variable OMP_NUM_THREADS=1.\n",
            "  warnings.warn(\n",
            "C:\\Users\\hp\\AppData\\Roaming\\Python\\Python311\\site-packages\\sklearn\\cluster\\_kmeans.py:1429: UserWarning: KMeans is known to have a memory leak on Windows with MKL, when there are less chunks than available threads. You can avoid it by setting the environment variable OMP_NUM_THREADS=1.\n",
            "  warnings.warn(\n",
            "C:\\Users\\hp\\AppData\\Roaming\\Python\\Python311\\site-packages\\sklearn\\cluster\\_kmeans.py:1429: UserWarning: KMeans is known to have a memory leak on Windows with MKL, when there are less chunks than available threads. You can avoid it by setting the environment variable OMP_NUM_THREADS=1.\n",
            "  warnings.warn(\n",
            "C:\\Users\\hp\\AppData\\Roaming\\Python\\Python311\\site-packages\\sklearn\\cluster\\_kmeans.py:1429: UserWarning: KMeans is known to have a memory leak on Windows with MKL, when there are less chunks than available threads. You can avoid it by setting the environment variable OMP_NUM_THREADS=1.\n",
            "  warnings.warn(\n",
            "C:\\Users\\hp\\AppData\\Roaming\\Python\\Python311\\site-packages\\sklearn\\cluster\\_kmeans.py:1429: UserWarning: KMeans is known to have a memory leak on Windows with MKL, when there are less chunks than available threads. You can avoid it by setting the environment variable OMP_NUM_THREADS=1.\n",
            "  warnings.warn(\n",
            "C:\\Users\\hp\\AppData\\Roaming\\Python\\Python311\\site-packages\\sklearn\\cluster\\_kmeans.py:1429: UserWarning: KMeans is known to have a memory leak on Windows with MKL, when there are less chunks than available threads. You can avoid it by setting the environment variable OMP_NUM_THREADS=1.\n",
            "  warnings.warn(\n",
            "C:\\Users\\hp\\AppData\\Roaming\\Python\\Python311\\site-packages\\sklearn\\cluster\\_kmeans.py:1429: UserWarning: KMeans is known to have a memory leak on Windows with MKL, when there are less chunks than available threads. You can avoid it by setting the environment variable OMP_NUM_THREADS=1.\n",
            "  warnings.warn(\n",
            "C:\\Users\\hp\\AppData\\Roaming\\Python\\Python311\\site-packages\\sklearn\\cluster\\_kmeans.py:1429: UserWarning: KMeans is known to have a memory leak on Windows with MKL, when there are less chunks than available threads. You can avoid it by setting the environment variable OMP_NUM_THREADS=1.\n",
            "  warnings.warn(\n",
            "C:\\Users\\hp\\AppData\\Roaming\\Python\\Python311\\site-packages\\sklearn\\cluster\\_kmeans.py:1429: UserWarning: KMeans is known to have a memory leak on Windows with MKL, when there are less chunks than available threads. You can avoid it by setting the environment variable OMP_NUM_THREADS=1.\n",
            "  warnings.warn(\n",
            "C:\\Users\\hp\\AppData\\Roaming\\Python\\Python311\\site-packages\\sklearn\\cluster\\_kmeans.py:1429: UserWarning: KMeans is known to have a memory leak on Windows with MKL, when there are less chunks than available threads. You can avoid it by setting the environment variable OMP_NUM_THREADS=1.\n",
            "  warnings.warn(\n",
            "C:\\Users\\hp\\AppData\\Roaming\\Python\\Python311\\site-packages\\sklearn\\cluster\\_kmeans.py:1429: UserWarning: KMeans is known to have a memory leak on Windows with MKL, when there are less chunks than available threads. You can avoid it by setting the environment variable OMP_NUM_THREADS=1.\n",
            "  warnings.warn(\n",
            "C:\\Users\\hp\\AppData\\Roaming\\Python\\Python311\\site-packages\\sklearn\\cluster\\_kmeans.py:1429: UserWarning: KMeans is known to have a memory leak on Windows with MKL, when there are less chunks than available threads. You can avoid it by setting the environment variable OMP_NUM_THREADS=1.\n",
            "  warnings.warn(\n"
          ]
        },
        {
          "data": {
            "image/png": "[encoded data removed]",
            "text/plain": [
              "<Figure size 800x500 with 1 Axes>"
            ]
          },
          "metadata": {},
          "output_type": "display_data"
        }
      ],
      "source": [
        "from sklearn.cluster import KMeans\n",
        "import matplotlib.pyplot as plt\n",
        "\n",
        "# Elbow Method\n",
        "inertia = []\n",
        "for n in range(1, 15):  # Test clusters from 1 to 15\n",
        "    kmodel = KMeans(n_clusters=n, random_state=42)\n",
        "    kmodel.fit(reduced_data)\n",
        "    inertia.append(kmodel.inertia_)\n",
        "\n",
        "plt.figure(figsize=(8, 5))\n",
        "plt.plot(range(1, 15), inertia, marker='o')\n",
        "plt.xlabel('Number of Clusters')\n",
        "plt.ylabel('Inertia')\n",
        "plt.title('Elbow Method')\n",
        "plt.show()"
      ]
    },
    {
      "cell_type": "code",
      "execution_count": null,
      "id": "bbb03839",
      "metadata": {
        "id": "bbb03839",
        "outputId": "5aacb300-1042-4389-d0ee-d2c9af3db472"
      },
      "outputs": [
        {
          "name": "stderr",
          "output_type": "stream",
          "text": [
            "C:\\Users\\hp\\AppData\\Roaming\\Python\\Python311\\site-packages\\sklearn\\cluster\\_kmeans.py:1429: UserWarning: KMeans is known to have a memory leak on Windows with MKL, when there are less chunks than available threads. You can avoid it by setting the environment variable OMP_NUM_THREADS=1.\n",
            "  warnings.warn(\n"
          ]
        }
      ],
      "source": [
        "#from sklearn.cluster import KMeans\n",
        "\n",
        "kmodel = KMeans(n_clusters=7,n_init='auto',random_state=23)\n",
        "kmodel.fit(reduced_data)  # Assuming you are clustering on PCA-transformed data\n",
        "labels = kmodel.labels_\n"
      ]
    },
    {
      "cell_type": "code",
      "execution_count": null,
      "id": "9631a4a2",
      "metadata": {
        "id": "9631a4a2",
        "outputId": "3d4db1e4-b770-46c0-b966-5d7c2c9c1749"
      },
      "outputs": [
        {
          "data": {
            "text/plain": [
              "array([4, 6, 6, 6, 6, 6, 6, 6, 6, 6, 6, 6, 6, 6, 6, 6, 6, 6, 6, 6, 6, 6,\n",
              "       6, 6, 6, 6, 6, 6, 6, 6, 6, 6, 6, 6, 6, 6, 6, 6, 6, 6, 6, 6, 6, 6,\n",
              "       6, 6, 1, 6, 6, 6, 6, 6, 6, 6, 6, 6, 6, 6, 6, 6, 6, 6, 6, 6, 6, 6,\n",
              "       6, 6, 6, 6, 6, 6, 6, 6, 6, 6, 6, 6, 6, 6, 6, 6, 6, 6, 6, 6, 0, 6,\n",
              "       6, 6, 6, 6, 6, 6, 6, 6, 6, 6, 5, 6, 6, 6, 6, 3, 6, 6, 6, 6, 6, 6,\n",
              "       6, 6, 6, 6, 6, 2, 6, 6, 6, 6, 6, 6, 6, 6, 6, 6, 6, 6, 6, 6, 6, 6,\n",
              "       6, 6, 6, 6, 6, 6, 6, 6, 6, 6, 6, 6, 6, 6, 6, 6, 6, 6, 6, 6, 6, 6,\n",
              "       6, 6, 6, 6, 6, 6, 6, 6, 6, 6, 6, 6, 6])"
            ]
          },
          "execution_count": 17,
          "metadata": {},
          "output_type": "execute_result"
        }
      ],
      "source": [
        "labels"
      ]
    },
    {
      "cell_type": "code",
      "execution_count": null,
      "id": "e3449e7a",
      "metadata": {
        "id": "e3449e7a"
      },
      "outputs": [],
      "source": [
        "# Add the KMeans cluster labels to your PCA-transformed data\n",
        "reduced_df = pd.DataFrame(reduced_data)\n",
        "reduced_df['Cluster'] = labels"
      ]
    },
    {
      "cell_type": "code",
      "execution_count": null,
      "id": "50bb9ae3",
      "metadata": {
        "id": "50bb9ae3",
        "outputId": "c5112548-b193-42db-a078-f65097f57dfd"
      },
      "outputs": [
        {
          "name": "stdout",
          "output_type": "stream",
          "text": [
            "            cols0     cols1     cols2     cols3     cols4     cols5     cols6  \\\n",
            "Cluster                                                                         \n",
            "0        1.306786 -0.329275 -0.844095 -1.495049  0.095406 -0.383580  1.130089   \n",
            "1        0.010725 -1.342847 -0.372678 -0.692811  0.589754 -0.852829 -0.773103   \n",
            "2        1.257052  0.631597  2.909369 -0.250302 -0.769025 -0.590478 -0.131716   \n",
            "3       -1.053661  0.680660  2.528796 -0.559007  3.550080  1.100280  1.125992   \n",
            "4       -3.248063  0.122848 -0.979269  1.425655 -0.251452 -0.597062  1.203160   \n",
            "5        4.102741  6.122456 -1.392724 -0.710672  2.569748 -0.758614 -0.812364   \n",
            "6       -0.014755 -0.036556 -0.011487  0.014175 -0.035929  0.012933 -0.010820   \n",
            "\n",
            "            cols7     cols8     cols9  ...   cols148        cols149  \\\n",
            "Cluster                                ...                            \n",
            "0       -0.950319  1.286047 -0.334061  ...  0.083286   8.179567e-01   \n",
            "1       -0.542363  0.758566  1.449482  ... -0.106745   9.586866e-01   \n",
            "2        1.529990  1.319383  0.030425  ... -0.097474   1.563759e+00   \n",
            "3        0.975326 -1.213434  0.385108  ...  0.420707  -5.520964e-01   \n",
            "4        1.461119 -0.056670  0.000000  ...  0.000000  3.756378e-301   \n",
            "5       -1.299277  0.771051 -0.225897  ...  0.606415  -6.156539e-01   \n",
            "6       -0.007295 -0.017795 -0.008106  ... -0.005629  -1.349473e-02   \n",
            "\n",
            "               cols150        cols151        cols152        cols153  \\\n",
            "Cluster                                                               \n",
            "0         1.290852e+00   4.521646e-02  -9.016911e-01  -1.018227e-01   \n",
            "1        -2.590410e-01  -8.384252e-02  -3.085468e-01   4.464259e-01   \n",
            "2        -2.993996e-01  -3.829472e-01  -6.833636e-01   2.071873e+00   \n",
            "3        -4.025426e-01   1.008426e+00   1.325696e-01  -2.319245e-01   \n",
            "4       -1.388963e-241  3.821516e-197  2.309276e-182  1.592355e-167   \n",
            "5         3.418143e-01   7.770633e-01  -2.174279e+00  -5.196014e-01   \n",
            "6        -4.171948e-03  -8.471526e-03   2.444292e-02  -1.034130e-02   \n",
            "\n",
            "              cols154        cols155   cols156   cols157  \n",
            "Cluster                                                   \n",
            "0       -3.085826e-01   7.549992e-01 -0.895745  2.162089  \n",
            "1        2.838725e-01   1.205111e+00  0.072337  0.401959  \n",
            "2       -8.644718e-02   1.187092e+00  0.671496  1.189822  \n",
            "3       -6.782640e-01  -9.741039e-01  0.384825  0.656523  \n",
            "4       -5.972442e-17  4.222596e-123  0.000000  0.000000  \n",
            "5        6.522900e-01  -1.636150e+00  0.499745  0.787910  \n",
            "6        8.517470e-04  -3.335083e-03 -0.004551 -0.032288  \n",
            "\n",
            "[7 rows x 158 columns]\n"
          ]
        }
      ],
      "source": [
        "# Now, calculate the mean of each feature within each cluster\n",
        "cluster_means = reduced_df.groupby('Cluster').mean()\n",
        "print(cluster_means)"
      ]
    },
    {
      "cell_type": "code",
      "execution_count": null,
      "id": "bb6d695d",
      "metadata": {
        "id": "bb6d695d",
        "outputId": "813027ca-ddf9-42ab-bdd5-864a991fd9d3"
      },
      "outputs": [
        {
          "name": "stdout",
          "output_type": "stream",
          "text": [
            "[[ 1.30678609e+00 -3.29275026e-01 -8.44094924e-01 ...  7.54999181e-01\n",
            "  -8.95745408e-01  2.16208939e+00]\n",
            " [ 1.07245752e-02 -1.34284715e+00 -3.72677916e-01 ...  1.20511134e+00\n",
            "   7.23371318e-02  4.01958803e-01]\n",
            " [ 1.25705189e+00  6.31597178e-01  2.90936943e+00 ...  1.18709165e+00\n",
            "   6.71496113e-01  1.18982212e+00]\n",
            " ...\n",
            " [-3.24806317e+00  1.22848490e-01 -9.79269324e-01 ...  0.00000000e+00\n",
            "   0.00000000e+00  0.00000000e+00]\n",
            " [ 4.10274147e+00  6.12245599e+00 -1.39272408e+00 ... -1.63614983e+00\n",
            "   4.99744817e-01  7.87909829e-01]\n",
            " [-1.47551548e-02 -3.65555231e-02 -1.14869543e-02 ... -3.33508344e-03\n",
            "  -4.55066618e-03 -3.22875976e-02]]\n"
          ]
        }
      ],
      "source": [
        "# Cluster Centers\n",
        "cluster_centers = kmodel.cluster_centers_\n",
        "print(cluster_centers)"
      ]
    },
    {
      "cell_type": "code",
      "execution_count": null,
      "id": "49ec6b6d",
      "metadata": {
        "id": "49ec6b6d"
      },
      "outputs": [],
      "source": [
        "preds= kmodel.predict(reduced_data)"
      ]
    },
    {
      "cell_type": "code",
      "execution_count": null,
      "id": "e385aa93",
      "metadata": {
        "id": "e385aa93",
        "outputId": "d5e24655-7236-4844-ccaf-b2fb039a94bf"
      },
      "outputs": [
        {
          "data": {
            "application/vnd.plotly.v1+json": {
              "config": {
                "plotlyServerURL": "https://plot.ly"
              },
              "data": [
                {
                  "hovertemplate": "gdpp=%{x}<br>income=%{y}<br>life_expec=%{z}<br>color=%{marker.color}<extra></extra>",
                  "legendgroup": "",
                  "marker": {
                    "color": [
                      4,
                      6,
                      6,
                      6,
                      6,
                      6,
                      6,
                      6,
                      6,
                      6,
                      6,
                      6,
                      6,
                      6,
                      6,
                      6,
                      6,
                      6,
                      6,
                      6,
                      6,
                      6,
                      6,
                      6,
                      6,
                      6,
                      6,
                      6,
                      6,
                      6,
                      6,
                      6,
                      6,
                      6,
                      6,
                      6,
                      6,
                      6,
                      6,
                      6,
                      6,
                      6,
                      6,
                      6,
                      6,
                      6,
                      1,
                      6,
                      6,
                      6,
                      6,
                      6,
                      6,
                      6,
                      6,
                      6,
                      6,
                      6,
                      6,
                      6,
                      6,
                      6,
                      6,
                      6,
                      6,
                      6,
                      6,
                      6,
                      6,
                      6,
                      6,
                      6,
                      6,
                      6,
                      6,
                      6,
                      6,
                      6,
                      6,
                      6,
                      6,
                      6,
                      6,
                      6,
                      6,
                      6,
                      0,
                      6,
                      6,
                      6,
                      6,
                      6,
                      6,
                      6,
                      6,
                      6,
                      6,
                      6,
                      5,
                      6,
                      6,
                      6,
                      6,
                      3,
                      6,
                      6,
                      6,
                      6,
                      6,
                      6,
                      6,
                      6,
                      6,
                      6,
                      6,
                      2,
                      6,
                      6,
                      6,
                      6,
                      6,
                      6,
                      6,
                      6,
                      6,
                      6,
                      6,
                      6,
                      6,
                      6,
                      6,
                      6,
                      6,
                      6,
                      6,
                      6,
                      6,
                      6,
                      6,
                      6,
                      6,
                      6,
                      6,
                      6,
                      6,
                      6,
                      6,
                      6,
                      6,
                      6,
                      6,
                      6,
                      6,
                      6,
                      6,
                      6,
                      6,
                      6,
                      6,
                      6,
                      6,
                      6,
                      6,
                      6,
                      6,
                      6,
                      6
                    ],
                    "coloraxis": "coloraxis",
                    "symbol": "circle"
                  },
                  "mode": "markers",
                  "name": "",
                  "scene": "scene",
                  "showlegend": false,
                  "type": "scatter3d",
                  "x": [
                    553,
                    4090,
                    4460,
                    3530,
                    12200,
                    10300,
                    3220,
                    51900,
                    46900,
                    5840,
                    28000,
                    20700,
                    758,
                    16000,
                    6030,
                    44400,
                    4340,
                    758,
                    2180,
                    1980,
                    4610,
                    6350,
                    11200,
                    35300,
                    6840,
                    575,
                    231,
                    786,
                    1310,
                    47400,
                    3310,
                    446,
                    897,
                    12900,
                    4560,
                    6250,
                    769,
                    334,
                    2740,
                    8200,
                    1220,
                    13500,
                    30800,
                    19800,
                    58000,
                    5450,
                    4660,
                    2600,
                    2990,
                    17100,
                    482,
                    14600,
                    3650,
                    46200,
                    40600,
                    8750,
                    562,
                    2960,
                    41800,
                    1310,
                    26900,
                    7370,
                    2830,
                    648,
                    547,
                    3040,
                    662,
                    13100,
                    41900,
                    1350,
                    3110,
                    6530,
                    4500,
                    48700,
                    30600,
                    35800,
                    4680,
                    44500,
                    3680,
                    9070,
                    967,
                    1490,
                    38500,
                    880,
                    1140,
                    11300,
                    8860,
                    1170,
                    327,
                    12100,
                    12000,
                    105000,
                    4540,
                    413,
                    459,
                    9070,
                    7100,
                    708,
                    21100,
                    1200,
                    8000,
                    2860,
                    1630,
                    2650,
                    6680,
                    2830,
                    419,
                    988,
                    5190,
                    592,
                    50300,
                    33700,
                    348,
                    2330,
                    87800,
                    19300,
                    1040,
                    8080,
                    3230,
                    5020,
                    2130,
                    12600,
                    22500,
                    70300,
                    8230,
                    10700,
                    563,
                    3450,
                    19300,
                    1000,
                    5410,
                    10800,
                    399,
                    46600,
                    16600,
                    23400,
                    1290,
                    7280,
                    22100,
                    30700,
                    2810,
                    6230,
                    1480,
                    8300,
                    52100,
                    74600,
                    738,
                    702,
                    5080,
                    3600,
                    488,
                    3550,
                    4140,
                    10700,
                    4440,
                    595,
                    2970,
                    35000,
                    38900,
                    48400,
                    11900,
                    1380,
                    2970,
                    13500,
                    1310,
                    1310,
                    1460
                  ],
                  "y": [
                    1610,
                    9930,
                    12900,
                    5900,
                    19100,
                    18700,
                    6700,
                    41400,
                    43200,
                    16000,
                    22900,
                    41100,
                    2440,
                    15300,
                    16200,
                    41100,
                    7880,
                    1820,
                    6420,
                    5410,
                    9720,
                    13300,
                    14500,
                    80600,
                    15300,
                    1430,
                    764,
                    2520,
                    2660,
                    40700,
                    5830,
                    888,
                    1930,
                    19400,
                    9530,
                    10900,
                    1410,
                    609,
                    5190,
                    13000,
                    2690,
                    20100,
                    33900,
                    28300,
                    44000,
                    11100,
                    9350,
                    9860,
                    7300,
                    33700,
                    1420,
                    22700,
                    7350,
                    39800,
                    36900,
                    15400,
                    1660,
                    6730,
                    40400,
                    3060,
                    28700,
                    11200,
                    6710,
                    1190,
                    1390,
                    5840,
                    1500,
                    22300,
                    38800,
                    4410,
                    8430,
                    17400,
                    12700,
                    45700,
                    29600,
                    36200,
                    8000,
                    35800,
                    9470,
                    20100,
                    2480,
                    1730,
                    75200,
                    2790,
                    3980,
                    18300,
                    16300,
                    2380,
                    700,
                    29600,
                    21100,
                    91700,
                    11400,
                    1390,
                    1030,
                    21100,
                    10500,
                    1870,
                    28300,
                    3320,
                    15900,
                    3340,
                    3910,
                    7710,
                    14000,
                    6440,
                    918,
                    3720,
                    8460,
                    1990,
                    45500,
                    32300,
                    814,
                    5150,
                    62300,
                    45300,
                    4280,
                    15400,
                    7290,
                    9960,
                    5600,
                    21800,
                    27200,
                    125000,
                    17800,
                    23100,
                    1350,
                    5400,
                    45400,
                    2180,
                    12700,
                    20400,
                    1220,
                    72100,
                    25200,
                    28700,
                    1780,
                    12000,
                    30400,
                    32500,
                    8560,
                    9920,
                    3370,
                    14200,
                    42900,
                    55500,
                    2110,
                    2090,
                    13500,
                    1850,
                    1210,
                    4980,
                    10400,
                    18000,
                    9940,
                    1540,
                    7820,
                    57600,
                    36200,
                    49400,
                    17100,
                    4240,
                    2950,
                    16500,
                    4490,
                    4480,
                    3280
                  ],
                  "z": [
                    56.2,
                    76.3,
                    76.5,
                    60.1,
                    76.8,
                    75.8,
                    73.3,
                    82,
                    80.5,
                    69.1,
                    73.8,
                    76,
                    70.4,
                    76.7,
                    70.4,
                    80,
                    71.4,
                    61.8,
                    72.1,
                    71.6,
                    76.8,
                    57.1,
                    74.2,
                    77.1,
                    73.9,
                    57.9,
                    57.7,
                    66.1,
                    57.3,
                    81.3,
                    72.5,
                    47.5,
                    56.5,
                    79.1,
                    74.6,
                    76.4,
                    65.9,
                    57.5,
                    60.4,
                    80.4,
                    56.3,
                    76.3,
                    79.9,
                    77.5,
                    79.5,
                    74.6,
                    76.7,
                    70.5,
                    74.1,
                    60.9,
                    61.7,
                    76,
                    65.3,
                    80,
                    81.4,
                    62.9,
                    65.5,
                    72.8,
                    80.1,
                    62.2,
                    80.4,
                    71.3,
                    71.3,
                    58,
                    55.6,
                    65.5,
                    32.1,
                    74.5,
                    82,
                    66.2,
                    69.9,
                    74.5,
                    67.2,
                    80.4,
                    81.4,
                    81.7,
                    74.7,
                    82.8,
                    75.8,
                    68.4,
                    62.8,
                    60.7,
                    78.2,
                    68.5,
                    63.8,
                    73.1,
                    79.8,
                    46.5,
                    60.8,
                    76.1,
                    73.2,
                    81.3,
                    74,
                    60.8,
                    53.1,
                    74.5,
                    77.9,
                    59.5,
                    80.3,
                    68.2,
                    73.4,
                    65.4,
                    69.7,
                    66.2,
                    76.4,
                    73.5,
                    54.5,
                    66.8,
                    58.6,
                    68.3,
                    80.7,
                    80.9,
                    58.8,
                    60.5,
                    81,
                    76.1,
                    65.3,
                    77.8,
                    74.1,
                    77.9,
                    69,
                    76.3,
                    79.8,
                    79.5,
                    73.7,
                    69.2,
                    64.6,
                    71.5,
                    75.1,
                    64,
                    74.7,
                    73.4,
                    55,
                    82.7,
                    75.5,
                    79.5,
                    61.7,
                    54.3,
                    80.1,
                    81.9,
                    74.4,
                    71.6,
                    66.3,
                    70.3,
                    81.5,
                    82.2,
                    69.6,
                    59.3,
                    76.6,
                    71.1,
                    58.7,
                    69.9,
                    76.9,
                    78.2,
                    67.9,
                    56.8,
                    70.4,
                    76.5,
                    80.3,
                    78.7,
                    76.4,
                    68.8,
                    63,
                    75.4,
                    73.1,
                    67.5,
                    52
                  ]
                }
              ],
              "layout": {
                "coloraxis": {
                  "colorbar": {
                    "title": {
                      "text": "color"
                    }
                  },
                  "colorscale": [
                    [
                      0,
                      "#0d0887"
                    ],
                    [
                      0.1111111111111111,
                      "#46039f"
                    ],
                    [
                      0.2222222222222222,
                      "#7201a8"
                    ],
                    [
                      0.3333333333333333,
                      "#9c179e"
                    ],
                    [
                      0.4444444444444444,
                      "#bd3786"
                    ],
                    [
                      0.5555555555555556,
                      "#d8576b"
                    ],
                    [
                      0.6666666666666666,
                      "#ed7953"
                    ],
                    [
                      0.7777777777777778,
                      "#fb9f3a"
                    ],
                    [
                      0.8888888888888888,
                      "#fdca26"
                    ],
                    [
                      1,
                      "#f0f921"
                    ]
                  ]
                },
                "legend": {
                  "tracegroupgap": 0
                },
                "margin": {
                  "t": 60
                },
                "scene": {
                  "domain": {
                    "x": [
                      0,
                      1
                    ],
                    "y": [
                      0,
                      1
                    ]
                  },
                  "xaxis": {
                    "title": {
                      "text": "gdpp"
                    }
                  },
                  "yaxis": {
                    "title": {
                      "text": "income"
                    }
                  },
                  "zaxis": {
                    "title": {
                      "text": "life_expec"
                    }
                  }
                },
                "template": {
                  "data": {
                    "bar": [
                      {
                        "error_x": {
                          "color": "#2a3f5f"
                        },
                        "error_y": {
                          "color": "#2a3f5f"
                        },
                        "marker": {
                          "line": {
                            "color": "#E5ECF6",
                            "width": 0.5
                          },
                          "pattern": {
                            "fillmode": "overlay",
                            "size": 10,
                            "solidity": 0.2
                          }
                        },
                        "type": "bar"
                      }
                    ],
                    "barpolar": [
                      {
                        "marker": {
                          "line": {
                            "color": "#E5ECF6",
                            "width": 0.5
                          },
                          "pattern": {
                            "fillmode": "overlay",
                            "size": 10,
                            "solidity": 0.2
                          }
                        },
                        "type": "barpolar"
                      }
                    ],
                    "carpet": [
                      {
                        "aaxis": {
                          "endlinecolor": "#2a3f5f",
                          "gridcolor": "white",
                          "linecolor": "white",
                          "minorgridcolor": "white",
                          "startlinecolor": "#2a3f5f"
                        },
                        "baxis": {
                          "endlinecolor": "#2a3f5f",
                          "gridcolor": "white",
                          "linecolor": "white",
                          "minorgridcolor": "white",
                          "startlinecolor": "#2a3f5f"
                        },
                        "type": "carpet"
                      }
                    ],
                    "choropleth": [
                      {
                        "colorbar": {
                          "outlinewidth": 0,
                          "ticks": ""
                        },
                        "type": "choropleth"
                      }
                    ],
                    "contour": [
                      {
                        "colorbar": {
                          "outlinewidth": 0,
                          "ticks": ""
                        },
                        "colorscale": [
                          [
                            0,
                            "#0d0887"
                          ],
                          [
                            0.1111111111111111,
                            "#46039f"
                          ],
                          [
                            0.2222222222222222,
                            "#7201a8"
                          ],
                          [
                            0.3333333333333333,
                            "#9c179e"
                          ],
                          [
                            0.4444444444444444,
                            "#bd3786"
                          ],
                          [
                            0.5555555555555556,
                            "#d8576b"
                          ],
                          [
                            0.6666666666666666,
                            "#ed7953"
                          ],
                          [
                            0.7777777777777778,
                            "#fb9f3a"
                          ],
                          [
                            0.8888888888888888,
                            "#fdca26"
                          ],
                          [
                            1,
                            "#f0f921"
                          ]
                        ],
                        "type": "contour"
                      }
                    ],
                    "contourcarpet": [
                      {
                        "colorbar": {
                          "outlinewidth": 0,
                          "ticks": ""
                        },
                        "type": "contourcarpet"
                      }
                    ],
                    "heatmap": [
                      {
                        "colorbar": {
                          "outlinewidth": 0,
                          "ticks": ""
                        },
                        "colorscale": [
                          [
                            0,
                            "#0d0887"
                          ],
                          [
                            0.1111111111111111,
                            "#46039f"
                          ],
                          [
                            0.2222222222222222,
                            "#7201a8"
                          ],
                          [
                            0.3333333333333333,
                            "#9c179e"
                          ],
                          [
                            0.4444444444444444,
                            "#bd3786"
                          ],
                          [
                            0.5555555555555556,
                            "#d8576b"
                          ],
                          [
                            0.6666666666666666,
                            "#ed7953"
                          ],
                          [
                            0.7777777777777778,
                            "#fb9f3a"
                          ],
                          [
                            0.8888888888888888,
                            "#fdca26"
                          ],
                          [
                            1,
                            "#f0f921"
                          ]
                        ],
                        "type": "heatmap"
                      }
                    ],
                    "heatmapgl": [
                      {
                        "colorbar": {
                          "outlinewidth": 0,
                          "ticks": ""
                        },
                        "colorscale": [
                          [
                            0,
                            "#0d0887"
                          ],
                          [
                            0.1111111111111111,
                            "#46039f"
                          ],
                          [
                            0.2222222222222222,
                            "#7201a8"
                          ],
                          [
                            0.3333333333333333,
                            "#9c179e"
                          ],
                          [
                            0.4444444444444444,
                            "#bd3786"
                          ],
                          [
                            0.5555555555555556,
                            "#d8576b"
                          ],
                          [
                            0.6666666666666666,
                            "#ed7953"
                          ],
                          [
                            0.7777777777777778,
                            "#fb9f3a"
                          ],
                          [
                            0.8888888888888888,
                            "#fdca26"
                          ],
                          [
                            1,
                            "#f0f921"
                          ]
                        ],
                        "type": "heatmapgl"
                      }
                    ],
                    "histogram": [
                      {
                        "marker": {
                          "pattern": {
                            "fillmode": "overlay",
                            "size": 10,
                            "solidity": 0.2
                          }
                        },
                        "type": "histogram"
                      }
                    ],
                    "histogram2d": [
                      {
                        "colorbar": {
                          "outlinewidth": 0,
                          "ticks": ""
                        },
                        "colorscale": [
                          [
                            0,
                            "#0d0887"
                          ],
                          [
                            0.1111111111111111,
                            "#46039f"
                          ],
                          [
                            0.2222222222222222,
                            "#7201a8"
                          ],
                          [
                            0.3333333333333333,
                            "#9c179e"
                          ],
                          [
                            0.4444444444444444,
                            "#bd3786"
                          ],
                          [
                            0.5555555555555556,
                            "#d8576b"
                          ],
                          [
                            0.6666666666666666,
                            "#ed7953"
                          ],
                          [
                            0.7777777777777778,
                            "#fb9f3a"
                          ],
                          [
                            0.8888888888888888,
                            "#fdca26"
                          ],
                          [
                            1,
                            "#f0f921"
                          ]
                        ],
                        "type": "histogram2d"
                      }
                    ],
                    "histogram2dcontour": [
                      {
                        "colorbar": {
                          "outlinewidth": 0,
                          "ticks": ""
                        },
                        "colorscale": [
                          [
                            0,
                            "#0d0887"
                          ],
                          [
                            0.1111111111111111,
                            "#46039f"
                          ],
                          [
                            0.2222222222222222,
                            "#7201a8"
                          ],
                          [
                            0.3333333333333333,
                            "#9c179e"
                          ],
                          [
                            0.4444444444444444,
                            "#bd3786"
                          ],
                          [
                            0.5555555555555556,
                            "#d8576b"
                          ],
                          [
                            0.6666666666666666,
                            "#ed7953"
                          ],
                          [
                            0.7777777777777778,
                            "#fb9f3a"
                          ],
                          [
                            0.8888888888888888,
                            "#fdca26"
                          ],
                          [
                            1,
                            "#f0f921"
                          ]
                        ],
                        "type": "histogram2dcontour"
                      }
                    ],
                    "mesh3d": [
                      {
                        "colorbar": {
                          "outlinewidth": 0,
                          "ticks": ""
                        },
                        "type": "mesh3d"
                      }
                    ],
                    "parcoords": [
                      {
                        "line": {
                          "colorbar": {
                            "outlinewidth": 0,
                            "ticks": ""
                          }
                        },
                        "type": "parcoords"
                      }
                    ],
                    "pie": [
                      {
                        "automargin": true,
                        "type": "pie"
                      }
                    ],
                    "scatter": [
                      {
                        "fillpattern": {
                          "fillmode": "overlay",
                          "size": 10,
                          "solidity": 0.2
                        },
                        "type": "scatter"
                      }
                    ],
                    "scatter3d": [
                      {
                        "line": {
                          "colorbar": {
                            "outlinewidth": 0,
                            "ticks": ""
                          }
                        },
                        "marker": {
                          "colorbar": {
                            "outlinewidth": 0,
                            "ticks": ""
                          }
                        },
                        "type": "scatter3d"
                      }
                    ],
                    "scattercarpet": [
                      {
                        "marker": {
                          "colorbar": {
                            "outlinewidth": 0,
                            "ticks": ""
                          }
                        },
                        "type": "scattercarpet"
                      }
                    ],
                    "scattergeo": [
                      {
                        "marker": {
                          "colorbar": {
                            "outlinewidth": 0,
                            "ticks": ""
                          }
                        },
                        "type": "scattergeo"
                      }
                    ],
                    "scattergl": [
                      {
                        "marker": {
                          "colorbar": {
                            "outlinewidth": 0,
                            "ticks": ""
                          }
                        },
                        "type": "scattergl"
                      }
                    ],
                    "scattermapbox": [
                      {
                        "marker": {
                          "colorbar": {
                            "outlinewidth": 0,
                            "ticks": ""
                          }
                        },
                        "type": "scattermapbox"
                      }
                    ],
                    "scatterpolar": [
                      {
                        "marker": {
                          "colorbar": {
                            "outlinewidth": 0,
                            "ticks": ""
                          }
                        },
                        "type": "scatterpolar"
                      }
                    ],
                    "scatterpolargl": [
                      {
                        "marker": {
                          "colorbar": {
                            "outlinewidth": 0,
                            "ticks": ""
                          }
                        },
                        "type": "scatterpolargl"
                      }
                    ],
                    "scatterternary": [
                      {
                        "marker": {
                          "colorbar": {
                            "outlinewidth": 0,
                            "ticks": ""
                          }
                        },
                        "type": "scatterternary"
                      }
                    ],
                    "surface": [
                      {
                        "colorbar": {
                          "outlinewidth": 0,
                          "ticks": ""
                        },
                        "colorscale": [
                          [
                            0,
                            "#0d0887"
                          ],
                          [
                            0.1111111111111111,
                            "#46039f"
                          ],
                          [
                            0.2222222222222222,
                            "#7201a8"
                          ],
                          [
                            0.3333333333333333,
                            "#9c179e"
                          ],
                          [
                            0.4444444444444444,
                            "#bd3786"
                          ],
                          [
                            0.5555555555555556,
                            "#d8576b"
                          ],
                          [
                            0.6666666666666666,
                            "#ed7953"
                          ],
                          [
                            0.7777777777777778,
                            "#fb9f3a"
                          ],
                          [
                            0.8888888888888888,
                            "#fdca26"
                          ],
                          [
                            1,
                            "#f0f921"
                          ]
                        ],
                        "type": "surface"
                      }
                    ],
                    "table": [
                      {
                        "cells": {
                          "fill": {
                            "color": "#EBF0F8"
                          },
                          "line": {
                            "color": "white"
                          }
                        },
                        "header": {
                          "fill": {
                            "color": "#C8D4E3"
                          },
                          "line": {
                            "color": "white"
                          }
                        },
                        "type": "table"
                      }
                    ]
                  },
                  "layout": {
                    "annotationdefaults": {
                      "arrowcolor": "#2a3f5f",
                      "arrowhead": 0,
                      "arrowwidth": 1
                    },
                    "autotypenumbers": "strict",
                    "coloraxis": {
                      "colorbar": {
                        "outlinewidth": 0,
                        "ticks": ""
                      }
                    },
                    "colorscale": {
                      "diverging": [
                        [
                          0,
                          "#8e0152"
                        ],
                        [
                          0.1,
                          "#c51b7d"
                        ],
                        [
                          0.2,
                          "#de77ae"
                        ],
                        [
                          0.3,
                          "#f1b6da"
                        ],
                        [
                          0.4,
                          "#fde0ef"
                        ],
                        [
                          0.5,
                          "#f7f7f7"
                        ],
                        [
                          0.6,
                          "#e6f5d0"
                        ],
                        [
                          0.7,
                          "#b8e186"
                        ],
                        [
                          0.8,
                          "#7fbc41"
                        ],
                        [
                          0.9,
                          "#4d9221"
                        ],
                        [
                          1,
                          "#276419"
                        ]
                      ],
                      "sequential": [
                        [
                          0,
                          "#0d0887"
                        ],
                        [
                          0.1111111111111111,
                          "#46039f"
                        ],
                        [
                          0.2222222222222222,
                          "#7201a8"
                        ],
                        [
                          0.3333333333333333,
                          "#9c179e"
                        ],
                        [
                          0.4444444444444444,
                          "#bd3786"
                        ],
                        [
                          0.5555555555555556,
                          "#d8576b"
                        ],
                        [
                          0.6666666666666666,
                          "#ed7953"
                        ],
                        [
                          0.7777777777777778,
                          "#fb9f3a"
                        ],
                        [
                          0.8888888888888888,
                          "#fdca26"
                        ],
                        [
                          1,
                          "#f0f921"
                        ]
                      ],
                      "sequentialminus": [
                        [
                          0,
                          "#0d0887"
                        ],
                        [
                          0.1111111111111111,
                          "#46039f"
                        ],
                        [
                          0.2222222222222222,
                          "#7201a8"
                        ],
                        [
                          0.3333333333333333,
                          "#9c179e"
                        ],
                        [
                          0.4444444444444444,
                          "#bd3786"
                        ],
                        [
                          0.5555555555555556,
                          "#d8576b"
                        ],
                        [
                          0.6666666666666666,
                          "#ed7953"
                        ],
                        [
                          0.7777777777777778,
                          "#fb9f3a"
                        ],
                        [
                          0.8888888888888888,
                          "#fdca26"
                        ],
                        [
                          1,
                          "#f0f921"
                        ]
                      ]
                    },
                    "colorway": [
                      "#636efa",
                      "#EF553B",
                      "#00cc96",
                      "#ab63fa",
                      "#FFA15A",
                      "#19d3f3",
                      "#FF6692",
                      "#B6E880",
                      "#FF97FF",
                      "#FECB52"
                    ],
                    "font": {
                      "color": "#2a3f5f"
                    },
                    "geo": {
                      "bgcolor": "white",
                      "lakecolor": "white",
                      "landcolor": "#E5ECF6",
                      "showlakes": true,
                      "showland": true,
                      "subunitcolor": "white"
                    },
                    "hoverlabel": {
                      "align": "left"
                    },
                    "hovermode": "closest",
                    "mapbox": {
                      "style": "light"
                    },
                    "paper_bgcolor": "white",
                    "plot_bgcolor": "#E5ECF6",
                    "polar": {
                      "angularaxis": {
                        "gridcolor": "white",
                        "linecolor": "white",
                        "ticks": ""
                      },
                      "bgcolor": "#E5ECF6",
                      "radialaxis": {
                        "gridcolor": "white",
                        "linecolor": "white",
                        "ticks": ""
                      }
                    },
                    "scene": {
                      "xaxis": {
                        "backgroundcolor": "#E5ECF6",
                        "gridcolor": "white",
                        "gridwidth": 2,
                        "linecolor": "white",
                        "showbackground": true,
                        "ticks": "",
                        "zerolinecolor": "white"
                      },
                      "yaxis": {
                        "backgroundcolor": "#E5ECF6",
                        "gridcolor": "white",
                        "gridwidth": 2,
                        "linecolor": "white",
                        "showbackground": true,
                        "ticks": "",
                        "zerolinecolor": "white"
                      },
                      "zaxis": {
                        "backgroundcolor": "#E5ECF6",
                        "gridcolor": "white",
                        "gridwidth": 2,
                        "linecolor": "white",
                        "showbackground": true,
                        "ticks": "",
                        "zerolinecolor": "white"
                      }
                    },
                    "shapedefaults": {
                      "line": {
                        "color": "#2a3f5f"
                      }
                    },
                    "ternary": {
                      "aaxis": {
                        "gridcolor": "white",
                        "linecolor": "white",
                        "ticks": ""
                      },
                      "baxis": {
                        "gridcolor": "white",
                        "linecolor": "white",
                        "ticks": ""
                      },
                      "bgcolor": "#E5ECF6",
                      "caxis": {
                        "gridcolor": "white",
                        "linecolor": "white",
                        "ticks": ""
                      }
                    },
                    "title": {
                      "x": 0.05
                    },
                    "xaxis": {
                      "automargin": true,
                      "gridcolor": "white",
                      "linecolor": "white",
                      "ticks": "",
                      "title": {
                        "standoff": 15
                      },
                      "zerolinecolor": "white",
                      "zerolinewidth": 2
                    },
                    "yaxis": {
                      "automargin": true,
                      "gridcolor": "white",
                      "linecolor": "white",
                      "ticks": "",
                      "title": {
                        "standoff": 15
                      },
                      "zerolinecolor": "white",
                      "zerolinewidth": 2
                    }
                  }
                },
                "width": 600
              }
            },
            "text/html": [
              "<div>                            <div id=\"4d88a082-299f-4db8-b96f-d57db33f97bd\" class=\"plotly-graph-div\" style=\"height:525px; width:600px;\"></div>            <script type=\"text/javascript\">                require([\"plotly\"], function(Plotly) {                    window.PLOTLYENV=window.PLOTLYENV || {};                                    if (document.getElementById(\"4d88a082-299f-4db8-b96f-d57db33f97bd\")) {                    Plotly.newPlot(                        \"4d88a082-299f-4db8-b96f-d57db33f97bd\",                        [{\"hovertemplate\":\"gdpp=%{x}<br>income=%{y}<br>life_expec=%{z}<br>color=%{marker.color}<extra></extra>\",\"legendgroup\":\"\",\"marker\":{\"color\":[4,6,6,6,6,6,6,6,6,6,6,6,6,6,6,6,6,6,6,6,6,6,6,6,6,6,6,6,6,6,6,6,6,6,6,6,6,6,6,6,6,6,6,6,6,6,1,6,6,6,6,6,6,6,6,6,6,6,6,6,6,6,6,6,6,6,6,6,6,6,6,6,6,6,6,6,6,6,6,6,6,6,6,6,6,6,0,6,6,6,6,6,6,6,6,6,6,6,5,6,6,6,6,3,6,6,6,6,6,6,6,6,6,6,6,2,6,6,6,6,6,6,6,6,6,6,6,6,6,6,6,6,6,6,6,6,6,6,6,6,6,6,6,6,6,6,6,6,6,6,6,6,6,6,6,6,6,6,6,6,6,6,6,6,6,6,6],\"coloraxis\":\"coloraxis\",\"symbol\":\"circle\"},\"mode\":\"markers\",\"name\":\"\",\"scene\":\"scene\",\"showlegend\":false,\"x\":[553,4090,4460,3530,12200,10300,3220,51900,46900,5840,28000,20700,758,16000,6030,44400,4340,758,2180,1980,4610,6350,11200,35300,6840,575,231,786,1310,47400,3310,446,897,12900,4560,6250,769,334,2740,8200,1220,13500,30800,19800,58000,5450,4660,2600,2990,17100,482,14600,3650,46200,40600,8750,562,2960,41800,1310,26900,7370,2830,648,547,3040,662,13100,41900,1350,3110,6530,4500,48700,30600,35800,4680,44500,3680,9070,967,1490,38500,880,1140,11300,8860,1170,327,12100,12000,105000,4540,413,459,9070,7100,708,21100,1200,8000,2860,1630,2650,6680,2830,419,988,5190,592,50300,33700,348,2330,87800,19300,1040,8080,3230,5020,2130,12600,22500,70300,8230,10700,563,3450,19300,1000,5410,10800,399,46600,16600,23400,1290,7280,22100,30700,2810,6230,1480,8300,52100,74600,738,702,5080,3600,488,3550,4140,10700,4440,595,2970,35000,38900,48400,11900,1380,2970,13500,1310,1310,1460],\"y\":[1610,9930,12900,5900,19100,18700,6700,41400,43200,16000,22900,41100,2440,15300,16200,41100,7880,1820,6420,5410,9720,13300,14500,80600,15300,1430,764,2520,2660,40700,5830,888,1930,19400,9530,10900,1410,609,5190,13000,2690,20100,33900,28300,44000,11100,9350,9860,7300,33700,1420,22700,7350,39800,36900,15400,1660,6730,40400,3060,28700,11200,6710,1190,1390,5840,1500,22300,38800,4410,8430,17400,12700,45700,29600,36200,8000,35800,9470,20100,2480,1730,75200,2790,3980,18300,16300,2380,700,29600,21100,91700,11400,1390,1030,21100,10500,1870,28300,3320,15900,3340,3910,7710,14000,6440,918,3720,8460,1990,45500,32300,814,5150,62300,45300,4280,15400,7290,9960,5600,21800,27200,125000,17800,23100,1350,5400,45400,2180,12700,20400,1220,72100,25200,28700,1780,12000,30400,32500,8560,9920,3370,14200,42900,55500,2110,2090,13500,1850,1210,4980,10400,18000,9940,1540,7820,57600,36200,49400,17100,4240,2950,16500,4490,4480,3280],\"z\":[56.2,76.3,76.5,60.1,76.8,75.8,73.3,82.0,80.5,69.1,73.8,76.0,70.4,76.7,70.4,80.0,71.4,61.8,72.1,71.6,76.8,57.1,74.2,77.1,73.9,57.9,57.7,66.1,57.3,81.3,72.5,47.5,56.5,79.1,74.6,76.4,65.9,57.5,60.4,80.4,56.3,76.3,79.9,77.5,79.5,74.6,76.7,70.5,74.1,60.9,61.7,76.0,65.3,80.0,81.4,62.9,65.5,72.8,80.1,62.2,80.4,71.3,71.3,58.0,55.6,65.5,32.1,74.5,82.0,66.2,69.9,74.5,67.2,80.4,81.4,81.7,74.7,82.8,75.8,68.4,62.8,60.7,78.2,68.5,63.8,73.1,79.8,46.5,60.8,76.1,73.2,81.3,74.0,60.8,53.1,74.5,77.9,59.5,80.3,68.2,73.4,65.4,69.7,66.2,76.4,73.5,54.5,66.8,58.6,68.3,80.7,80.9,58.8,60.5,81.0,76.1,65.3,77.8,74.1,77.9,69.0,76.3,79.8,79.5,73.7,69.2,64.6,71.5,75.1,64.0,74.7,73.4,55.0,82.7,75.5,79.5,61.7,54.3,80.1,81.9,74.4,71.6,66.3,70.3,81.5,82.2,69.6,59.3,76.6,71.1,58.7,69.9,76.9,78.2,67.9,56.8,70.4,76.5,80.3,78.7,76.4,68.8,63.0,75.4,73.1,67.5,52.0],\"type\":\"scatter3d\"}],                        {\"template\":{\"data\":{\"histogram2dcontour\":[{\"type\":\"histogram2dcontour\",\"colorbar\":{\"outlinewidth\":0,\"ticks\":\"\"},\"colorscale\":[[0.0,\"#0d0887\"],[0.1111111111111111,\"#46039f\"],[0.2222222222222222,\"#7201a8\"],[0.3333333333333333,\"#9c179e\"],[0.4444444444444444,\"#bd3786\"],[0.5555555555555556,\"#d8576b\"],[0.6666666666666666,\"#ed7953\"],[0.7777777777777778,\"#fb9f3a\"],[0.8888888888888888,\"#fdca26\"],[1.0,\"#f0f921\"]]}],\"choropleth\":[{\"type\":\"choropleth\",\"colorbar\":{\"outlinewidth\":0,\"ticks\":\"\"}}],\"histogram2d\":[{\"type\":\"histogram2d\",\"colorbar\":{\"outlinewidth\":0,\"ticks\":\"\"},\"colorscale\":[[0.0,\"#0d0887\"],[0.1111111111111111,\"#46039f\"],[0.2222222222222222,\"#7201a8\"],[0.3333333333333333,\"#9c179e\"],[0.4444444444444444,\"#bd3786\"],[0.5555555555555556,\"#d8576b\"],[0.6666666666666666,\"#ed7953\"],[0.7777777777777778,\"#fb9f3a\"],[0.8888888888888888,\"#fdca26\"],[1.0,\"#f0f921\"]]}],\"heatmap\":[{\"type\":\"heatmap\",\"colorbar\":{\"outlinewidth\":0,\"ticks\":\"\"},\"colorscale\":[[0.0,\"#0d0887\"],[0.1111111111111111,\"#46039f\"],[0.2222222222222222,\"#7201a8\"],[0.3333333333333333,\"#9c179e\"],[0.4444444444444444,\"#bd3786\"],[0.5555555555555556,\"#d8576b\"],[0.6666666666666666,\"#ed7953\"],[0.7777777777777778,\"#fb9f3a\"],[0.8888888888888888,\"#fdca26\"],[1.0,\"#f0f921\"]]}],\"heatmapgl\":[{\"type\":\"heatmapgl\",\"colorbar\":{\"outlinewidth\":0,\"ticks\":\"\"},\"colorscale\":[[0.0,\"#0d0887\"],[0.1111111111111111,\"#46039f\"],[0.2222222222222222,\"#7201a8\"],[0.3333333333333333,\"#9c179e\"],[0.4444444444444444,\"#bd3786\"],[0.5555555555555556,\"#d8576b\"],[0.6666666666666666,\"#ed7953\"],[0.7777777777777778,\"#fb9f3a\"],[0.8888888888888888,\"#fdca26\"],[1.0,\"#f0f921\"]]}],\"contourcarpet\":[{\"type\":\"contourcarpet\",\"colorbar\":{\"outlinewidth\":0,\"ticks\":\"\"}}],\"contour\":[{\"type\":\"contour\",\"colorbar\":{\"outlinewidth\":0,\"ticks\":\"\"},\"colorscale\":[[0.0,\"#0d0887\"],[0.1111111111111111,\"#46039f\"],[0.2222222222222222,\"#7201a8\"],[0.3333333333333333,\"#9c179e\"],[0.4444444444444444,\"#bd3786\"],[0.5555555555555556,\"#d8576b\"],[0.6666666666666666,\"#ed7953\"],[0.7777777777777778,\"#fb9f3a\"],[0.8888888888888888,\"#fdca26\"],[1.0,\"#f0f921\"]]}],\"surface\":[{\"type\":\"surface\",\"colorbar\":{\"outlinewidth\":0,\"ticks\":\"\"},\"colorscale\":[[0.0,\"#0d0887\"],[0.1111111111111111,\"#46039f\"],[0.2222222222222222,\"#7201a8\"],[0.3333333333333333,\"#9c179e\"],[0.4444444444444444,\"#bd3786\"],[0.5555555555555556,\"#d8576b\"],[0.6666666666666666,\"#ed7953\"],[0.7777777777777778,\"#fb9f3a\"],[0.8888888888888888,\"#fdca26\"],[1.0,\"#f0f921\"]]}],\"mesh3d\":[{\"type\":\"mesh3d\",\"colorbar\":{\"outlinewidth\":0,\"ticks\":\"\"}}],\"scatter\":[{\"fillpattern\":{\"fillmode\":\"overlay\",\"size\":10,\"solidity\":0.2},\"type\":\"scatter\"}],\"parcoords\":[{\"type\":\"parcoords\",\"line\":{\"colorbar\":{\"outlinewidth\":0,\"ticks\":\"\"}}}],\"scatterpolargl\":[{\"type\":\"scatterpolargl\",\"marker\":{\"colorbar\":{\"outlinewidth\":0,\"ticks\":\"\"}}}],\"bar\":[{\"error_x\":{\"color\":\"#2a3f5f\"},\"error_y\":{\"color\":\"#2a3f5f\"},\"marker\":{\"line\":{\"color\":\"#E5ECF6\",\"width\":0.5},\"pattern\":{\"fillmode\":\"overlay\",\"size\":10,\"solidity\":0.2}},\"type\":\"bar\"}],\"scattergeo\":[{\"type\":\"scattergeo\",\"marker\":{\"colorbar\":{\"outlinewidth\":0,\"ticks\":\"\"}}}],\"scatterpolar\":[{\"type\":\"scatterpolar\",\"marker\":{\"colorbar\":{\"outlinewidth\":0,\"ticks\":\"\"}}}],\"histogram\":[{\"marker\":{\"pattern\":{\"fillmode\":\"overlay\",\"size\":10,\"solidity\":0.2}},\"type\":\"histogram\"}],\"scattergl\":[{\"type\":\"scattergl\",\"marker\":{\"colorbar\":{\"outlinewidth\":0,\"ticks\":\"\"}}}],\"scatter3d\":[{\"type\":\"scatter3d\",\"line\":{\"colorbar\":{\"outlinewidth\":0,\"ticks\":\"\"}},\"marker\":{\"colorbar\":{\"outlinewidth\":0,\"ticks\":\"\"}}}],\"scattermapbox\":[{\"type\":\"scattermapbox\",\"marker\":{\"colorbar\":{\"outlinewidth\":0,\"ticks\":\"\"}}}],\"scatterternary\":[{\"type\":\"scatterternary\",\"marker\":{\"colorbar\":{\"outlinewidth\":0,\"ticks\":\"\"}}}],\"scattercarpet\":[{\"type\":\"scattercarpet\",\"marker\":{\"colorbar\":{\"outlinewidth\":0,\"ticks\":\"\"}}}],\"carpet\":[{\"aaxis\":{\"endlinecolor\":\"#2a3f5f\",\"gridcolor\":\"white\",\"linecolor\":\"white\",\"minorgridcolor\":\"white\",\"startlinecolor\":\"#2a3f5f\"},\"baxis\":{\"endlinecolor\":\"#2a3f5f\",\"gridcolor\":\"white\",\"linecolor\":\"white\",\"minorgridcolor\":\"white\",\"startlinecolor\":\"#2a3f5f\"},\"type\":\"carpet\"}],\"table\":[{\"cells\":{\"fill\":{\"color\":\"#EBF0F8\"},\"line\":{\"color\":\"white\"}},\"header\":{\"fill\":{\"color\":\"#C8D4E3\"},\"line\":{\"color\":\"white\"}},\"type\":\"table\"}],\"barpolar\":[{\"marker\":{\"line\":{\"color\":\"#E5ECF6\",\"width\":0.5},\"pattern\":{\"fillmode\":\"overlay\",\"size\":10,\"solidity\":0.2}},\"type\":\"barpolar\"}],\"pie\":[{\"automargin\":true,\"type\":\"pie\"}]},\"layout\":{\"autotypenumbers\":\"strict\",\"colorway\":[\"#636efa\",\"#EF553B\",\"#00cc96\",\"#ab63fa\",\"#FFA15A\",\"#19d3f3\",\"#FF6692\",\"#B6E880\",\"#FF97FF\",\"#FECB52\"],\"font\":{\"color\":\"#2a3f5f\"},\"hovermode\":\"closest\",\"hoverlabel\":{\"align\":\"left\"},\"paper_bgcolor\":\"white\",\"plot_bgcolor\":\"#E5ECF6\",\"polar\":{\"bgcolor\":\"#E5ECF6\",\"angularaxis\":{\"gridcolor\":\"white\",\"linecolor\":\"white\",\"ticks\":\"\"},\"radialaxis\":{\"gridcolor\":\"white\",\"linecolor\":\"white\",\"ticks\":\"\"}},\"ternary\":{\"bgcolor\":\"#E5ECF6\",\"aaxis\":{\"gridcolor\":\"white\",\"linecolor\":\"white\",\"ticks\":\"\"},\"baxis\":{\"gridcolor\":\"white\",\"linecolor\":\"white\",\"ticks\":\"\"},\"caxis\":{\"gridcolor\":\"white\",\"linecolor\":\"white\",\"ticks\":\"\"}},\"coloraxis\":{\"colorbar\":{\"outlinewidth\":0,\"ticks\":\"\"}},\"colorscale\":{\"sequential\":[[0.0,\"#0d0887\"],[0.1111111111111111,\"#46039f\"],[0.2222222222222222,\"#7201a8\"],[0.3333333333333333,\"#9c179e\"],[0.4444444444444444,\"#bd3786\"],[0.5555555555555556,\"#d8576b\"],[0.6666666666666666,\"#ed7953\"],[0.7777777777777778,\"#fb9f3a\"],[0.8888888888888888,\"#fdca26\"],[1.0,\"#f0f921\"]],\"sequentialminus\":[[0.0,\"#0d0887\"],[0.1111111111111111,\"#46039f\"],[0.2222222222222222,\"#7201a8\"],[0.3333333333333333,\"#9c179e\"],[0.4444444444444444,\"#bd3786\"],[0.5555555555555556,\"#d8576b\"],[0.6666666666666666,\"#ed7953\"],[0.7777777777777778,\"#fb9f3a\"],[0.8888888888888888,\"#fdca26\"],[1.0,\"#f0f921\"]],\"diverging\":[[0,\"#8e0152\"],[0.1,\"#c51b7d\"],[0.2,\"#de77ae\"],[0.3,\"#f1b6da\"],[0.4,\"#fde0ef\"],[0.5,\"#f7f7f7\"],[0.6,\"#e6f5d0\"],[0.7,\"#b8e186\"],[0.8,\"#7fbc41\"],[0.9,\"#4d9221\"],[1,\"#276419\"]]},\"xaxis\":{\"gridcolor\":\"white\",\"linecolor\":\"white\",\"ticks\":\"\",\"title\":{\"standoff\":15},\"zerolinecolor\":\"white\",\"automargin\":true,\"zerolinewidth\":2},\"yaxis\":{\"gridcolor\":\"white\",\"linecolor\":\"white\",\"ticks\":\"\",\"title\":{\"standoff\":15},\"zerolinecolor\":\"white\",\"automargin\":true,\"zerolinewidth\":2},\"scene\":{\"xaxis\":{\"backgroundcolor\":\"#E5ECF6\",\"gridcolor\":\"white\",\"linecolor\":\"white\",\"showbackground\":true,\"ticks\":\"\",\"zerolinecolor\":\"white\",\"gridwidth\":2},\"yaxis\":{\"backgroundcolor\":\"#E5ECF6\",\"gridcolor\":\"white\",\"linecolor\":\"white\",\"showbackground\":true,\"ticks\":\"\",\"zerolinecolor\":\"white\",\"gridwidth\":2},\"zaxis\":{\"backgroundcolor\":\"#E5ECF6\",\"gridcolor\":\"white\",\"linecolor\":\"white\",\"showbackground\":true,\"ticks\":\"\",\"zerolinecolor\":\"white\",\"gridwidth\":2}},\"shapedefaults\":{\"line\":{\"color\":\"#2a3f5f\"}},\"annotationdefaults\":{\"arrowcolor\":\"#2a3f5f\",\"arrowhead\":0,\"arrowwidth\":1},\"geo\":{\"bgcolor\":\"white\",\"landcolor\":\"#E5ECF6\",\"subunitcolor\":\"white\",\"showland\":true,\"showlakes\":true,\"lakecolor\":\"white\"},\"title\":{\"x\":0.05},\"mapbox\":{\"style\":\"light\"}}},\"scene\":{\"domain\":{\"x\":[0.0,1.0],\"y\":[0.0,1.0]},\"xaxis\":{\"title\":{\"text\":\"gdpp\"}},\"yaxis\":{\"title\":{\"text\":\"income\"}},\"zaxis\":{\"title\":{\"text\":\"life_expec\"}}},\"coloraxis\":{\"colorbar\":{\"title\":{\"text\":\"color\"}},\"colorscale\":[[0.0,\"#0d0887\"],[0.1111111111111111,\"#46039f\"],[0.2222222222222222,\"#7201a8\"],[0.3333333333333333,\"#9c179e\"],[0.4444444444444444,\"#bd3786\"],[0.5555555555555556,\"#d8576b\"],[0.6666666666666666,\"#ed7953\"],[0.7777777777777778,\"#fb9f3a\"],[0.8888888888888888,\"#fdca26\"],[1.0,\"#f0f921\"]]},\"legend\":{\"tracegroupgap\":0},\"margin\":{\"t\":60},\"width\":600},                        {\"responsive\": true}                    ).then(function(){\n",
              "                            \n",
              "var gd = document.getElementById('4d88a082-299f-4db8-b96f-d57db33f97bd');\n",
              "var x = new MutationObserver(function (mutations, observer) {{\n",
              "        var display = window.getComputedStyle(gd).display;\n",
              "        if (!display || display === 'none') {{\n",
              "            console.log([gd, 'removed!']);\n",
              "            Plotly.purge(gd);\n",
              "            observer.disconnect();\n",
              "        }}\n",
              "}});\n",
              "\n",
              "// Listen for the removal of the full notebook cells\n",
              "var notebookContainer = gd.closest('#notebook-container');\n",
              "if (notebookContainer) {{\n",
              "    x.observe(notebookContainer, {childList: true});\n",
              "}}\n",
              "\n",
              "// Listen for the clearing of the current output cell\n",
              "var outputEl = gd.closest('.output');\n",
              "if (outputEl) {{\n",
              "    x.observe(outputEl, {childList: true});\n",
              "}}\n",
              "\n",
              "                        })                };                });            </script>        </div>"
            ]
          },
          "metadata": {},
          "output_type": "display_data"
        }
      ],
      "source": [
        "\n",
        "import plotly.express as px\n",
        "px.scatter_3d(data_frame = df, x='gdpp', y='income',\n",
        "              z='life_expec', width=600, color=preds)"
      ]
    },
    {
      "cell_type": "code",
      "execution_count": null,
      "id": "dce7d964",
      "metadata": {
        "id": "dce7d964",
        "outputId": "26ab002b-cdf9-4198-b0eb-ab51c1630649"
      },
      "outputs": [
        {
          "data": {
            "application/vnd.plotly.v1+json": {
              "config": {
                "plotlyServerURL": "https://plot.ly"
              },
              "data": [
                {
                  "hovertemplate": "cols0=%{x}<br>cols1=%{y}<br>cols2=%{z}<br>color=%{marker.color}<extra></extra>",
                  "legendgroup": "",
                  "marker": {
                    "color": [
                      4,
                      6,
                      6,
                      6,
                      6,
                      6,
                      6,
                      6,
                      6,
                      6,
                      6,
                      6,
                      6,
                      6,
                      6,
                      6,
                      6,
                      6,
                      6,
                      6,
                      6,
                      6,
                      6,
                      6,
                      6,
                      6,
                      6,
                      6,
                      6,
                      6,
                      6,
                      6,
                      6,
                      6,
                      6,
                      6,
                      6,
                      6,
                      6,
                      6,
                      6,
                      6,
                      6,
                      6,
                      6,
                      6,
                      1,
                      6,
                      6,
                      6,
                      6,
                      6,
                      6,
                      6,
                      6,
                      6,
                      6,
                      6,
                      6,
                      6,
                      6,
                      6,
                      6,
                      6,
                      6,
                      6,
                      6,
                      6,
                      6,
                      6,
                      6,
                      6,
                      6,
                      6,
                      6,
                      6,
                      6,
                      6,
                      6,
                      6,
                      6,
                      6,
                      6,
                      6,
                      6,
                      6,
                      0,
                      6,
                      6,
                      6,
                      6,
                      6,
                      6,
                      6,
                      6,
                      6,
                      6,
                      6,
                      5,
                      6,
                      6,
                      6,
                      6,
                      3,
                      6,
                      6,
                      6,
                      6,
                      6,
                      6,
                      6,
                      6,
                      6,
                      6,
                      6,
                      2,
                      6,
                      6,
                      6,
                      6,
                      6,
                      6,
                      6,
                      6,
                      6,
                      6,
                      6,
                      6,
                      6,
                      6,
                      6,
                      6,
                      6,
                      6,
                      6,
                      6,
                      6,
                      6,
                      6,
                      6,
                      6,
                      6,
                      6,
                      6,
                      6,
                      6,
                      6,
                      6,
                      6,
                      6,
                      6,
                      6,
                      6,
                      6,
                      6,
                      6,
                      6,
                      6,
                      6,
                      6,
                      6,
                      6,
                      6,
                      6,
                      6,
                      6,
                      6
                    ],
                    "coloraxis": "coloraxis",
                    "symbol": "circle"
                  },
                  "mode": "markers",
                  "name": "",
                  "scene": "scene",
                  "showlegend": false,
                  "type": "scatter3d",
                  "x": [
                    -3.2480631683981422,
                    0.4793571473685732,
                    -0.3180299515896445,
                    -3.2696922842971086,
                    1.1524515509254265,
                    0.024984410134138598,
                    -0.11326728745263397,
                    2.6115463068731697,
                    3.3157880887833593,
                    -0.2023605410207272,
                    1.4146671581751709,
                    1.8631843588168107,
                    -1.2531095147385882,
                    1.2057473581621023,
                    0.6467361593466079,
                    3.505365328629724,
                    0.23555277881463668,
                    -2.97966736137266,
                    -0.17457881333202377,
                    -0.8851555965853921,
                    1.1104057964954803,
                    -0.9835400579545207,
                    0.15697318696581594,
                    2.743030405236679,
                    1.0108655675941893,
                    -3.4811332593777324,
                    -3.232392864258103,
                    -0.6493973799151975,
                    -3.1308573438855585,
                    2.836183648855408,
                    -0.17372079879315772,
                    -4.420990351899889,
                    -3.9667238214974825,
                    1.0611098155471372,
                    0.06409321224281889,
                    0.13507961825501275,
                    -2.3343447094117056,
                    -3.5383520743819226,
                    -1.9241533368688664,
                    1.0456897959895586,
                    -2.8786385680282276,
                    1.2809988037708402,
                    2.424547656711462,
                    2.2894172901404986,
                    3.3567404978605713,
                    -0.257682992042217,
                    0.010724575192077394,
                    -0.9457400350855996,
                    0.09128379199570266,
                    -1.4421845590974103,
                    -2.7593205470452564,
                    1.849901197728558,
                    -0.21054631784065678,
                    2.7417750149039977,
                    2.5135434742022573,
                    -1.5852316167670542,
                    -2.4682725541318047,
                    0.3589700644070114,
                    2.978672849720589,
                    -2.290424864373657,
                    1.984159524469513,
                    0.1622398868053326,
                    -0.7398152667533084,
                    -3.311066906768714,
                    -3.1595220097653334,
                    -0.35990584905309025,
                    -4.916896453899482,
                    2.050689271035602,
                    2.766264920134916,
                    -1.497269547411061,
                    -1.0645597449413227,
                    -0.001187057190606392,
                    -1.1476037981169172,
                    4.090571594039041,
                    1.6561488543627925,
                    2.414908394674757,
                    0.020749630094003678,
                    2.5264901152149064,
                    0.178561287658165,
                    -0.3270854511184564,
                    -2.0903194843905135,
                    -1.3817441381474669,
                    2.74924394915017,
                    -0.37907117262359813,
                    -1.7034848634495692,
                    1.3255730590087211,
                    1.3067860942495169,
                    -2.0105390358868056,
                    -1.977566770896905,
                    0.9131329585433151,
                    1.5719334807020757,
                    7.713393560570224,
                    0.8175397634756536,
                    -2.3816795542286626,
                    -3.322613745698258,
                    1.3723909090732673,
                    1.2361056322103845,
                    -3.8047122048216355,
                    4.102741473041239,
                    -2.178656466214133,
                    1.0032617745936392,
                    -0.4247409361399405,
                    0.568143618293332,
                    -1.0536609446664686,
                    1.1447669024717584,
                    -0.2596534823061622,
                    -3.256443526052584,
                    -2.0485011776428514,
                    -1.163377403498888,
                    -1.4574234655305531,
                    3.7678076326414556,
                    2.024582927614771,
                    -3.846985294895132,
                    -5.477022472179515,
                    4.1491846316063,
                    1.257051889625098,
                    -2.631820129291828,
                    1.2976357684002466,
                    0.13140018879398102,
                    -0.023008817533190867,
                    -0.8727725964712605,
                    1.357894740161773,
                    2.0227106227935847,
                    4.730219774392498,
                    0.6386718786755909,
                    0.1825964122274431,
                    -1.8728929701157813,
                    -0.6276387347588027,
                    0.9543804056127736,
                    -2.132096643488842,
                    0.9281601540061571,
                    1.786918906853885,
                    -3.770558945136979,
                    6.448545480516178,
                    2.263170321023322,
                    2.541665142952807,
                    -0.8989344652458291,
                    -1.3289153256513644,
                    2.1386664673107227,
                    2.2514331391402753,
                    -0.6417710049825787,
                    0.029685536124678672,
                    -2.586190060963873,
                    0.19141972631976417,
                    3.1424694141407747,
                    4.55878389922054,
                    -1.3875951760280807,
                    -2.8478005761558194,
                    1.0326063249197877,
                    -2.644780263537358,
                    -2.2273990534761103,
                    -0.8418450825835155,
                    0.6714966725914858,
                    0.44760865675370687,
                    -0.5172953149172648,
                    -3.183182347329719,
                    0.33706850595892773,
                    2.7062964529319773,
                    2.3058377069959417,
                    2.9449814522926205,
                    0.6883121824779164,
                    -0.9516967134243158,
                    -0.9150151920919766,
                    -0.6144123629985616,
                    0.5558616642215064,
                    -2.1045343339058924,
                    -3.1934713371964296
                  ],
                  "y": [
                    0.12284848991703641,
                    -0.7556327189422523,
                    -0.584785115881675,
                    2.178363588417615,
                    0.1755722126387691,
                    -2.2858091259732642,
                    -0.7300611379675845,
                    -2.5546719734170336,
                    -0.9438909125153976,
                    -0.517581743625037,
                    -0.8435515943746021,
                    0.7209532513476736,
                    -1.235154868425892,
                    -0.6192101297263222,
                    0.6877609010283203,
                    0.852492882634334,
                    0.8983516852949458,
                    0.5372464426023912,
                    0.9987586578312424,
                    -0.15450537297239558,
                    -1.2486332202952328,
                    0.5876035569966545,
                    -2.7635955684111115,
                    0.021139324922965774,
                    0.03889913951665565,
                    0.04981612312490635,
                    -0.5430165139534142,
                    1.1496200057964165,
                    0.10104413367857096,
                    -2.218884110082296,
                    0.4512495908454439,
                    0.49670899084729914,
                    1.6562067168752668,
                    -1.3829407195526022,
                    -1.5288474755010912,
                    -2.272605190058266,
                    0.44144120931612574,
                    1.3494773148738834,
                    2.7960633020653125,
                    -1.735018757218189,
                    1.5518148175239543,
                    -1.0853718838104731,
                    -0.005794795157518889,
                    0.5437037934064544,
                    -1.1120133272379544,
                    -1.1314035033438312,
                    -1.342847151423767,
                    -1.0532619528148073,
                    -0.7294858521803134,
                    3.036755476202743,
                    -0.7940076352039802,
                    1.3124544815889507,
                    1.3769490492527088,
                    -1.3825741378144523,
                    -2.3981624684586724,
                    0.4107644359980077,
                    0.2871362487743077,
                    -0.6658281591262365,
                    -1.6362697275438145,
                    0.48824900993277737,
                    -2.268092887909121,
                    -0.5541591960618221,
                    -0.7887216624074663,
                    0.9359834422740086,
                    -0.11707690616824899,
                    1.7489826776964215,
                    2.238329805718631,
                    1.6354410976437184,
                    -0.8154330041698925,
                    -0.6875195117156012,
                    -0.9409014645435644,
                    -1.7143050215588884,
                    -0.36393013092984067,
                    2.2219655445766953,
                    -1.347990513388995,
                    -2.2771998956002104,
                    -0.3070054245709572,
                    -3.129128045140808,
                    0.6951332282435894,
                    -0.30516069101975196,
                    -0.2197306709152895,
                    0.4742504018106013,
                    0.1131219119299061,
                    1.6678572366911897,
                    0.7011994546125011,
                    0.20818085901788994,
                    -0.3292750261473406,
                    2.618128098005721,
                    1.353353445960463,
                    0.5008488913380256,
                    0.9376528612488386,
                    6.230834420612424,
                    -0.12188088843804197,
                    0.4403261159418638,
                    0.2783055522527337,
                    2.057845814155473,
                    1.2967160273979332,
                    0.7213464117745093,
                    6.122455987096765,
                    1.7773026230957674,
                    0.535072204603299,
                    0.13075362259639986,
                    0.20769047735871163,
                    0.6806597408079242,
                    -0.3310048825076585,
                    -0.36105029513112424,
                    1.1476285942281026,
                    -2.073160490464567,
                    1.28839966040962,
                    -1.0137298617850408,
                    0.14864865815194322,
                    -2.0359730204496937,
                    1.246107419522983,
                    -0.12140714106681852,
                    -1.8593601613050166,
                    0.6315971783708977,
                    -0.6159084724045637,
                    1.4328505839070014,
                    0.4638345893518262,
                    -1.3960312145281468,
                    -0.12397587683547427,
                    -0.8468670162224932,
                    -1.8640258032486732,
                    -0.25130172883827284,
                    -0.818879880046615,
                    -1.3704146834084938,
                    -1.2868419056058964,
                    -0.028398612479174915,
                    -0.23567542941531397,
                    0.11763158348042842,
                    -1.116866169717895,
                    3.7760337857749295,
                    -0.3035882626383271,
                    8.584812385089167,
                    1.3495104772752344,
                    0.2508797561377308,
                    1.6746589277187887,
                    -0.715293507833644,
                    -0.5491896286380308,
                    -2.292484530463861,
                    -1.2816037978000274,
                    -0.020638321250055425,
                    -0.9884957069173242,
                    -0.12180407255217272,
                    -1.1748789978924914,
                    -0.5517509877207456,
                    -0.037151656842303725,
                    -0.27625706585299015,
                    1.0640689492253512,
                    -1.5128092094295786,
                    1.2312546024276236,
                    -0.11292159158932485,
                    0.2228214451600504,
                    -1.814053153972199,
                    1.659733838891632,
                    -0.4523376767902375,
                    -0.12535438283944667,
                    1.4797913111374628,
                    -1.9724932977462069,
                    -3.850862595975367,
                    -1.8378049598517412,
                    -0.8408494433596051,
                    0.8216873527639905,
                    -1.5852346983528243,
                    1.7867581128135155,
                    -0.14061970996831413,
                    0.6243856858810806
                  ],
                  "z": [
                    -0.9792693244326127,
                    -0.4547607772263082,
                    1.6657170058690824,
                    2.079640849389588,
                    -0.3078065404674042,
                    1.186380094379582,
                    0.330130877062039,
                    0.2595647182136584,
                    -0.7087844856565999,
                    1.1829186173039432,
                    -0.6655990978158289,
                    1.3517391011149034,
                    0.7181234351664693,
                    -0.9059544770884622,
                    0.6630489108321046,
                    -0.8798716143537042,
                    -0.37577132178036116,
                    -0.35096304095040265,
                    -0.3782022621680675,
                    0.5464750668515977,
                    -2.0841189130250006,
                    -0.7972404513708916,
                    -0.23541561793075852,
                    4.118034951503415,
                    -0.6425620027910874,
                    -0.6214890409647069,
                    -1.8374135546518258,
                    -0.6800634980895369,
                    -0.46768228796211914,
                    -0.5403925008377559,
                    -0.39830685231686486,
                    -0.44122156861066425,
                    -0.14047800487504064,
                    0.20566828880108623,
                    0.5827129536595295,
                    -0.33492287573676194,
                    -0.4478003400740945,
                    -0.0016625120714149242,
                    2.035561435603995,
                    -1.119741510437043,
                    -0.3178229500547663,
                    -0.5587085531809779,
                    0.3508964404714251,
                    -0.7409250286019962,
                    -0.4578517329433934,
                    -0.05009592683878429,
                    -0.37267791617031865,
                    0.7954087868996782,
                    -0.785301114736295,
                    2.4264069177087007,
                    1.09569597720269,
                    -0.15152470877502236,
                    -0.25976929285590905,
                    -0.13696467063529305,
                    -0.9709098404433367,
                    2.0966724336649634,
                    -0.5360700669102056,
                    -1.3277782562848464,
                    -0.8947937892573126,
                    0.5722654393617587,
                    -0.933013000411709,
                    -0.6415582964070082,
                    -0.4536538080413002,
                    0.5332441352993823,
                    -1.643447316321295,
                    -0.6416185153637497,
                    -1.9947734700611786,
                    -0.6308717957224702,
                    0.14154137709618395,
                    0.6408470228921697,
                    1.8764109479843847,
                    1.3947582444447715,
                    0.26213197741760136,
                    -0.7145424369793881,
                    0.10471616453248775,
                    -0.38752966320633664,
                    0.45512120927334876,
                    -0.31323083783814437,
                    -0.7602809208947432,
                    2.035161669823409,
                    -0.3403109176435873,
                    -3.229519808890546,
                    3.616791261368881,
                    -0.5834568341514069,
                    0.18703811685432473,
                    -0.6658140973307953,
                    -0.8440949238482541,
                    -3.4049011617721043,
                    -3.259747357736088,
                    2.0317053040407345,
                    -0.5563820294347843,
                    1.3661651466718376,
                    -0.8963018048778658,
                    0.32024491154224116,
                    -0.2789996286871417,
                    0.7346299466691973,
                    -0.3681606708046926,
                    -0.3390264151570622,
                    -1.3927240820935478,
                    0.9974647807583398,
                    -0.5205894608328261,
                    -3.7010883559597083,
                    -2.135299493843531,
                    2.528796449739109,
                    -1.5049491983078398,
                    -0.3564017410504961,
                    -0.3527847302630666,
                    1.3766001700899746,
                    -0.9989290178892667,
                    0.5315696681011963,
                    -1.0065582419528754,
                    -0.35639931017405485,
                    -0.7929028998379205,
                    8.332177208359372,
                    1.21096952975074,
                    2.9093694335935854,
                    1.3821447505140914,
                    -1.0774538785136285,
                    -0.06364516466071184,
                    0.5513941692980955,
                    0.42149911982312066,
                    -0.42441499861081644,
                    -1.2852319289135608,
                    4.969006009374959,
                    0.11775305885618792,
                    1.4870962017749214,
                    -2.0024470162476504,
                    -0.8705475294420522,
                    2.595143121212373,
                    -0.6913195759198612,
                    -1.3877868528727184,
                    -0.5273155406262526,
                    -1.8603777382578237,
                    0.8924063476505771,
                    -1.16589971452388,
                    -1.093021664475259,
                    -1.6762474362252668,
                    -0.9790613094129986,
                    0.1919241983605496,
                    -0.5186223201583656,
                    2.389460228870462,
                    -0.05256408657750752,
                    0.9992081829569657,
                    0.016399993240385574,
                    -0.13883034469267938,
                    -0.35666127834597133,
                    -0.20203900744618086,
                    -0.12067089085301276,
                    0.4663929369219494,
                    0.5439950298937384,
                    -1.6609875618927865,
                    -0.577220410953513,
                    -0.3315850708990658,
                    0.3077579221565282,
                    0.8171572415405784,
                    -0.955733784851706,
                    -0.12359879527162805,
                    2.493503915152232,
                    -0.34469503558282355,
                    -2.3480556222411995,
                    -0.3333284197924282,
                    0.8453118022740503,
                    -0.5317225283012925,
                    4.229186405650563,
                    -0.3252684712974172,
                    1.51332363404366,
                    0.304323296091124
                  ]
                }
              ],
              "layout": {
                "coloraxis": {
                  "colorbar": {
                    "title": {
                      "text": "color"
                    }
                  },
                  "colorscale": [
                    [
                      0,
                      "#0d0887"
                    ],
                    [
                      0.1111111111111111,
                      "#46039f"
                    ],
                    [
                      0.2222222222222222,
                      "#7201a8"
                    ],
                    [
                      0.3333333333333333,
                      "#9c179e"
                    ],
                    [
                      0.4444444444444444,
                      "#bd3786"
                    ],
                    [
                      0.5555555555555556,
                      "#d8576b"
                    ],
                    [
                      0.6666666666666666,
                      "#ed7953"
                    ],
                    [
                      0.7777777777777778,
                      "#fb9f3a"
                    ],
                    [
                      0.8888888888888888,
                      "#fdca26"
                    ],
                    [
                      1,
                      "#f0f921"
                    ]
                  ]
                },
                "legend": {
                  "tracegroupgap": 0
                },
                "margin": {
                  "t": 60
                },
                "scene": {
                  "domain": {
                    "x": [
                      0,
                      1
                    ],
                    "y": [
                      0,
                      1
                    ]
                  },
                  "xaxis": {
                    "title": {
                      "text": "cols0"
                    }
                  },
                  "yaxis": {
                    "title": {
                      "text": "cols1"
                    }
                  },
                  "zaxis": {
                    "title": {
                      "text": "cols2"
                    }
                  }
                },
                "template": {
                  "data": {
                    "bar": [
                      {
                        "error_x": {
                          "color": "#2a3f5f"
                        },
                        "error_y": {
                          "color": "#2a3f5f"
                        },
                        "marker": {
                          "line": {
                            "color": "#E5ECF6",
                            "width": 0.5
                          },
                          "pattern": {
                            "fillmode": "overlay",
                            "size": 10,
                            "solidity": 0.2
                          }
                        },
                        "type": "bar"
                      }
                    ],
                    "barpolar": [
                      {
                        "marker": {
                          "line": {
                            "color": "#E5ECF6",
                            "width": 0.5
                          },
                          "pattern": {
                            "fillmode": "overlay",
                            "size": 10,
                            "solidity": 0.2
                          }
                        },
                        "type": "barpolar"
                      }
                    ],
                    "carpet": [
                      {
                        "aaxis": {
                          "endlinecolor": "#2a3f5f",
                          "gridcolor": "white",
                          "linecolor": "white",
                          "minorgridcolor": "white",
                          "startlinecolor": "#2a3f5f"
                        },
                        "baxis": {
                          "endlinecolor": "#2a3f5f",
                          "gridcolor": "white",
                          "linecolor": "white",
                          "minorgridcolor": "white",
                          "startlinecolor": "#2a3f5f"
                        },
                        "type": "carpet"
                      }
                    ],
                    "choropleth": [
                      {
                        "colorbar": {
                          "outlinewidth": 0,
                          "ticks": ""
                        },
                        "type": "choropleth"
                      }
                    ],
                    "contour": [
                      {
                        "colorbar": {
                          "outlinewidth": 0,
                          "ticks": ""
                        },
                        "colorscale": [
                          [
                            0,
                            "#0d0887"
                          ],
                          [
                            0.1111111111111111,
                            "#46039f"
                          ],
                          [
                            0.2222222222222222,
                            "#7201a8"
                          ],
                          [
                            0.3333333333333333,
                            "#9c179e"
                          ],
                          [
                            0.4444444444444444,
                            "#bd3786"
                          ],
                          [
                            0.5555555555555556,
                            "#d8576b"
                          ],
                          [
                            0.6666666666666666,
                            "#ed7953"
                          ],
                          [
                            0.7777777777777778,
                            "#fb9f3a"
                          ],
                          [
                            0.8888888888888888,
                            "#fdca26"
                          ],
                          [
                            1,
                            "#f0f921"
                          ]
                        ],
                        "type": "contour"
                      }
                    ],
                    "contourcarpet": [
                      {
                        "colorbar": {
                          "outlinewidth": 0,
                          "ticks": ""
                        },
                        "type": "contourcarpet"
                      }
                    ],
                    "heatmap": [
                      {
                        "colorbar": {
                          "outlinewidth": 0,
                          "ticks": ""
                        },
                        "colorscale": [
                          [
                            0,
                            "#0d0887"
                          ],
                          [
                            0.1111111111111111,
                            "#46039f"
                          ],
                          [
                            0.2222222222222222,
                            "#7201a8"
                          ],
                          [
                            0.3333333333333333,
                            "#9c179e"
                          ],
                          [
                            0.4444444444444444,
                            "#bd3786"
                          ],
                          [
                            0.5555555555555556,
                            "#d8576b"
                          ],
                          [
                            0.6666666666666666,
                            "#ed7953"
                          ],
                          [
                            0.7777777777777778,
                            "#fb9f3a"
                          ],
                          [
                            0.8888888888888888,
                            "#fdca26"
                          ],
                          [
                            1,
                            "#f0f921"
                          ]
                        ],
                        "type": "heatmap"
                      }
                    ],
                    "heatmapgl": [
                      {
                        "colorbar": {
                          "outlinewidth": 0,
                          "ticks": ""
                        },
                        "colorscale": [
                          [
                            0,
                            "#0d0887"
                          ],
                          [
                            0.1111111111111111,
                            "#46039f"
                          ],
                          [
                            0.2222222222222222,
                            "#7201a8"
                          ],
                          [
                            0.3333333333333333,
                            "#9c179e"
                          ],
                          [
                            0.4444444444444444,
                            "#bd3786"
                          ],
                          [
                            0.5555555555555556,
                            "#d8576b"
                          ],
                          [
                            0.6666666666666666,
                            "#ed7953"
                          ],
                          [
                            0.7777777777777778,
                            "#fb9f3a"
                          ],
                          [
                            0.8888888888888888,
                            "#fdca26"
                          ],
                          [
                            1,
                            "#f0f921"
                          ]
                        ],
                        "type": "heatmapgl"
                      }
                    ],
                    "histogram": [
                      {
                        "marker": {
                          "pattern": {
                            "fillmode": "overlay",
                            "size": 10,
                            "solidity": 0.2
                          }
                        },
                        "type": "histogram"
                      }
                    ],
                    "histogram2d": [
                      {
                        "colorbar": {
                          "outlinewidth": 0,
                          "ticks": ""
                        },
                        "colorscale": [
                          [
                            0,
                            "#0d0887"
                          ],
                          [
                            0.1111111111111111,
                            "#46039f"
                          ],
                          [
                            0.2222222222222222,
                            "#7201a8"
                          ],
                          [
                            0.3333333333333333,
                            "#9c179e"
                          ],
                          [
                            0.4444444444444444,
                            "#bd3786"
                          ],
                          [
                            0.5555555555555556,
                            "#d8576b"
                          ],
                          [
                            0.6666666666666666,
                            "#ed7953"
                          ],
                          [
                            0.7777777777777778,
                            "#fb9f3a"
                          ],
                          [
                            0.8888888888888888,
                            "#fdca26"
                          ],
                          [
                            1,
                            "#f0f921"
                          ]
                        ],
                        "type": "histogram2d"
                      }
                    ],
                    "histogram2dcontour": [
                      {
                        "colorbar": {
                          "outlinewidth": 0,
                          "ticks": ""
                        },
                        "colorscale": [
                          [
                            0,
                            "#0d0887"
                          ],
                          [
                            0.1111111111111111,
                            "#46039f"
                          ],
                          [
                            0.2222222222222222,
                            "#7201a8"
                          ],
                          [
                            0.3333333333333333,
                            "#9c179e"
                          ],
                          [
                            0.4444444444444444,
                            "#bd3786"
                          ],
                          [
                            0.5555555555555556,
                            "#d8576b"
                          ],
                          [
                            0.6666666666666666,
                            "#ed7953"
                          ],
                          [
                            0.7777777777777778,
                            "#fb9f3a"
                          ],
                          [
                            0.8888888888888888,
                            "#fdca26"
                          ],
                          [
                            1,
                            "#f0f921"
                          ]
                        ],
                        "type": "histogram2dcontour"
                      }
                    ],
                    "mesh3d": [
                      {
                        "colorbar": {
                          "outlinewidth": 0,
                          "ticks": ""
                        },
                        "type": "mesh3d"
                      }
                    ],
                    "parcoords": [
                      {
                        "line": {
                          "colorbar": {
                            "outlinewidth": 0,
                            "ticks": ""
                          }
                        },
                        "type": "parcoords"
                      }
                    ],
                    "pie": [
                      {
                        "automargin": true,
                        "type": "pie"
                      }
                    ],
                    "scatter": [
                      {
                        "fillpattern": {
                          "fillmode": "overlay",
                          "size": 10,
                          "solidity": 0.2
                        },
                        "type": "scatter"
                      }
                    ],
                    "scatter3d": [
                      {
                        "line": {
                          "colorbar": {
                            "outlinewidth": 0,
                            "ticks": ""
                          }
                        },
                        "marker": {
                          "colorbar": {
                            "outlinewidth": 0,
                            "ticks": ""
                          }
                        },
                        "type": "scatter3d"
                      }
                    ],
                    "scattercarpet": [
                      {
                        "marker": {
                          "colorbar": {
                            "outlinewidth": 0,
                            "ticks": ""
                          }
                        },
                        "type": "scattercarpet"
                      }
                    ],
                    "scattergeo": [
                      {
                        "marker": {
                          "colorbar": {
                            "outlinewidth": 0,
                            "ticks": ""
                          }
                        },
                        "type": "scattergeo"
                      }
                    ],
                    "scattergl": [
                      {
                        "marker": {
                          "colorbar": {
                            "outlinewidth": 0,
                            "ticks": ""
                          }
                        },
                        "type": "scattergl"
                      }
                    ],
                    "scattermapbox": [
                      {
                        "marker": {
                          "colorbar": {
                            "outlinewidth": 0,
                            "ticks": ""
                          }
                        },
                        "type": "scattermapbox"
                      }
                    ],
                    "scatterpolar": [
                      {
                        "marker": {
                          "colorbar": {
                            "outlinewidth": 0,
                            "ticks": ""
                          }
                        },
                        "type": "scatterpolar"
                      }
                    ],
                    "scatterpolargl": [
                      {
                        "marker": {
                          "colorbar": {
                            "outlinewidth": 0,
                            "ticks": ""
                          }
                        },
                        "type": "scatterpolargl"
                      }
                    ],
                    "scatterternary": [
                      {
                        "marker": {
                          "colorbar": {
                            "outlinewidth": 0,
                            "ticks": ""
                          }
                        },
                        "type": "scatterternary"
                      }
                    ],
                    "surface": [
                      {
                        "colorbar": {
                          "outlinewidth": 0,
                          "ticks": ""
                        },
                        "colorscale": [
                          [
                            0,
                            "#0d0887"
                          ],
                          [
                            0.1111111111111111,
                            "#46039f"
                          ],
                          [
                            0.2222222222222222,
                            "#7201a8"
                          ],
                          [
                            0.3333333333333333,
                            "#9c179e"
                          ],
                          [
                            0.4444444444444444,
                            "#bd3786"
                          ],
                          [
                            0.5555555555555556,
                            "#d8576b"
                          ],
                          [
                            0.6666666666666666,
                            "#ed7953"
                          ],
                          [
                            0.7777777777777778,
                            "#fb9f3a"
                          ],
                          [
                            0.8888888888888888,
                            "#fdca26"
                          ],
                          [
                            1,
                            "#f0f921"
                          ]
                        ],
                        "type": "surface"
                      }
                    ],
                    "table": [
                      {
                        "cells": {
                          "fill": {
                            "color": "#EBF0F8"
                          },
                          "line": {
                            "color": "white"
                          }
                        },
                        "header": {
                          "fill": {
                            "color": "#C8D4E3"
                          },
                          "line": {
                            "color": "white"
                          }
                        },
                        "type": "table"
                      }
                    ]
                  },
                  "layout": {
                    "annotationdefaults": {
                      "arrowcolor": "#2a3f5f",
                      "arrowhead": 0,
                      "arrowwidth": 1
                    },
                    "autotypenumbers": "strict",
                    "coloraxis": {
                      "colorbar": {
                        "outlinewidth": 0,
                        "ticks": ""
                      }
                    },
                    "colorscale": {
                      "diverging": [
                        [
                          0,
                          "#8e0152"
                        ],
                        [
                          0.1,
                          "#c51b7d"
                        ],
                        [
                          0.2,
                          "#de77ae"
                        ],
                        [
                          0.3,
                          "#f1b6da"
                        ],
                        [
                          0.4,
                          "#fde0ef"
                        ],
                        [
                          0.5,
                          "#f7f7f7"
                        ],
                        [
                          0.6,
                          "#e6f5d0"
                        ],
                        [
                          0.7,
                          "#b8e186"
                        ],
                        [
                          0.8,
                          "#7fbc41"
                        ],
                        [
                          0.9,
                          "#4d9221"
                        ],
                        [
                          1,
                          "#276419"
                        ]
                      ],
                      "sequential": [
                        [
                          0,
                          "#0d0887"
                        ],
                        [
                          0.1111111111111111,
                          "#46039f"
                        ],
                        [
                          0.2222222222222222,
                          "#7201a8"
                        ],
                        [
                          0.3333333333333333,
                          "#9c179e"
                        ],
                        [
                          0.4444444444444444,
                          "#bd3786"
                        ],
                        [
                          0.5555555555555556,
                          "#d8576b"
                        ],
                        [
                          0.6666666666666666,
                          "#ed7953"
                        ],
                        [
                          0.7777777777777778,
                          "#fb9f3a"
                        ],
                        [
                          0.8888888888888888,
                          "#fdca26"
                        ],
                        [
                          1,
                          "#f0f921"
                        ]
                      ],
                      "sequentialminus": [
                        [
                          0,
                          "#0d0887"
                        ],
                        [
                          0.1111111111111111,
                          "#46039f"
                        ],
                        [
                          0.2222222222222222,
                          "#7201a8"
                        ],
                        [
                          0.3333333333333333,
                          "#9c179e"
                        ],
                        [
                          0.4444444444444444,
                          "#bd3786"
                        ],
                        [
                          0.5555555555555556,
                          "#d8576b"
                        ],
                        [
                          0.6666666666666666,
                          "#ed7953"
                        ],
                        [
                          0.7777777777777778,
                          "#fb9f3a"
                        ],
                        [
                          0.8888888888888888,
                          "#fdca26"
                        ],
                        [
                          1,
                          "#f0f921"
                        ]
                      ]
                    },
                    "colorway": [
                      "#636efa",
                      "#EF553B",
                      "#00cc96",
                      "#ab63fa",
                      "#FFA15A",
                      "#19d3f3",
                      "#FF6692",
                      "#B6E880",
                      "#FF97FF",
                      "#FECB52"
                    ],
                    "font": {
                      "color": "#2a3f5f"
                    },
                    "geo": {
                      "bgcolor": "white",
                      "lakecolor": "white",
                      "landcolor": "#E5ECF6",
                      "showlakes": true,
                      "showland": true,
                      "subunitcolor": "white"
                    },
                    "hoverlabel": {
                      "align": "left"
                    },
                    "hovermode": "closest",
                    "mapbox": {
                      "style": "light"
                    },
                    "paper_bgcolor": "white",
                    "plot_bgcolor": "#E5ECF6",
                    "polar": {
                      "angularaxis": {
                        "gridcolor": "white",
                        "linecolor": "white",
                        "ticks": ""
                      },
                      "bgcolor": "#E5ECF6",
                      "radialaxis": {
                        "gridcolor": "white",
                        "linecolor": "white",
                        "ticks": ""
                      }
                    },
                    "scene": {
                      "xaxis": {
                        "backgroundcolor": "#E5ECF6",
                        "gridcolor": "white",
                        "gridwidth": 2,
                        "linecolor": "white",
                        "showbackground": true,
                        "ticks": "",
                        "zerolinecolor": "white"
                      },
                      "yaxis": {
                        "backgroundcolor": "#E5ECF6",
                        "gridcolor": "white",
                        "gridwidth": 2,
                        "linecolor": "white",
                        "showbackground": true,
                        "ticks": "",
                        "zerolinecolor": "white"
                      },
                      "zaxis": {
                        "backgroundcolor": "#E5ECF6",
                        "gridcolor": "white",
                        "gridwidth": 2,
                        "linecolor": "white",
                        "showbackground": true,
                        "ticks": "",
                        "zerolinecolor": "white"
                      }
                    },
                    "shapedefaults": {
                      "line": {
                        "color": "#2a3f5f"
                      }
                    },
                    "ternary": {
                      "aaxis": {
                        "gridcolor": "white",
                        "linecolor": "white",
                        "ticks": ""
                      },
                      "baxis": {
                        "gridcolor": "white",
                        "linecolor": "white",
                        "ticks": ""
                      },
                      "bgcolor": "#E5ECF6",
                      "caxis": {
                        "gridcolor": "white",
                        "linecolor": "white",
                        "ticks": ""
                      }
                    },
                    "title": {
                      "x": 0.05
                    },
                    "xaxis": {
                      "automargin": true,
                      "gridcolor": "white",
                      "linecolor": "white",
                      "ticks": "",
                      "title": {
                        "standoff": 15
                      },
                      "zerolinecolor": "white",
                      "zerolinewidth": 2
                    },
                    "yaxis": {
                      "automargin": true,
                      "gridcolor": "white",
                      "linecolor": "white",
                      "ticks": "",
                      "title": {
                        "standoff": 15
                      },
                      "zerolinecolor": "white",
                      "zerolinewidth": 2
                    }
                  }
                },
                "width": 600
              }
            },
            "text/html": [
              "<div>                            <div id=\"14bebed0-0224-418b-9a61-1d6397004019\" class=\"plotly-graph-div\" style=\"height:525px; width:600px;\"></div>            <script type=\"text/javascript\">                require([\"plotly\"], function(Plotly) {                    window.PLOTLYENV=window.PLOTLYENV || {};                                    if (document.getElementById(\"14bebed0-0224-418b-9a61-1d6397004019\")) {                    Plotly.newPlot(                        \"14bebed0-0224-418b-9a61-1d6397004019\",                        [{\"hovertemplate\":\"cols0=%{x}<br>cols1=%{y}<br>cols2=%{z}<br>color=%{marker.color}<extra></extra>\",\"legendgroup\":\"\",\"marker\":{\"color\":[4,6,6,6,6,6,6,6,6,6,6,6,6,6,6,6,6,6,6,6,6,6,6,6,6,6,6,6,6,6,6,6,6,6,6,6,6,6,6,6,6,6,6,6,6,6,1,6,6,6,6,6,6,6,6,6,6,6,6,6,6,6,6,6,6,6,6,6,6,6,6,6,6,6,6,6,6,6,6,6,6,6,6,6,6,6,0,6,6,6,6,6,6,6,6,6,6,6,5,6,6,6,6,3,6,6,6,6,6,6,6,6,6,6,6,2,6,6,6,6,6,6,6,6,6,6,6,6,6,6,6,6,6,6,6,6,6,6,6,6,6,6,6,6,6,6,6,6,6,6,6,6,6,6,6,6,6,6,6,6,6,6,6,6,6,6,6],\"coloraxis\":\"coloraxis\",\"symbol\":\"circle\"},\"mode\":\"markers\",\"name\":\"\",\"scene\":\"scene\",\"showlegend\":false,\"x\":[-3.2480631683981422,0.4793571473685732,-0.3180299515896445,-3.2696922842971086,1.1524515509254265,0.024984410134138598,-0.11326728745263397,2.6115463068731697,3.3157880887833593,-0.2023605410207272,1.4146671581751709,1.8631843588168107,-1.2531095147385882,1.2057473581621023,0.6467361593466079,3.505365328629724,0.23555277881463668,-2.97966736137266,-0.17457881333202377,-0.8851555965853921,1.1104057964954803,-0.9835400579545207,0.15697318696581594,2.743030405236679,1.0108655675941893,-3.4811332593777324,-3.232392864258103,-0.6493973799151975,-3.1308573438855585,2.836183648855408,-0.17372079879315772,-4.420990351899889,-3.9667238214974825,1.0611098155471372,0.06409321224281889,0.13507961825501275,-2.3343447094117056,-3.5383520743819226,-1.9241533368688664,1.0456897959895586,-2.8786385680282276,1.2809988037708402,2.424547656711462,2.2894172901404986,3.3567404978605713,-0.257682992042217,0.010724575192077394,-0.9457400350855996,0.09128379199570266,-1.4421845590974103,-2.7593205470452564,1.849901197728558,-0.21054631784065678,2.7417750149039977,2.5135434742022573,-1.5852316167670542,-2.4682725541318047,0.3589700644070114,2.978672849720589,-2.290424864373657,1.984159524469513,0.1622398868053326,-0.7398152667533084,-3.311066906768714,-3.1595220097653334,-0.35990584905309025,-4.916896453899482,2.050689271035602,2.766264920134916,-1.497269547411061,-1.0645597449413227,-0.001187057190606392,-1.1476037981169172,4.090571594039041,1.6561488543627925,2.414908394674757,0.020749630094003678,2.5264901152149064,0.178561287658165,-0.3270854511184564,-2.0903194843905135,-1.3817441381474669,2.74924394915017,-0.37907117262359813,-1.7034848634495692,1.3255730590087211,1.3067860942495169,-2.0105390358868056,-1.977566770896905,0.9131329585433151,1.5719334807020757,7.713393560570224,0.8175397634756536,-2.3816795542286626,-3.322613745698258,1.3723909090732673,1.2361056322103845,-3.8047122048216355,4.102741473041239,-2.178656466214133,1.0032617745936392,-0.4247409361399405,0.568143618293332,-1.0536609446664686,1.1447669024717584,-0.2596534823061622,-3.256443526052584,-2.0485011776428514,-1.163377403498888,-1.4574234655305531,3.7678076326414556,2.024582927614771,-3.846985294895132,-5.477022472179515,4.1491846316063,1.257051889625098,-2.631820129291828,1.2976357684002466,0.13140018879398102,-0.023008817533190867,-0.8727725964712605,1.357894740161773,2.0227106227935847,4.730219774392498,0.6386718786755909,0.1825964122274431,-1.8728929701157813,-0.6276387347588027,0.9543804056127736,-2.132096643488842,0.9281601540061571,1.786918906853885,-3.770558945136979,6.448545480516178,2.263170321023322,2.541665142952807,-0.8989344652458291,-1.3289153256513644,2.1386664673107227,2.2514331391402753,-0.6417710049825787,0.029685536124678672,-2.586190060963873,0.19141972631976417,3.1424694141407747,4.55878389922054,-1.3875951760280807,-2.8478005761558194,1.0326063249197877,-2.644780263537358,-2.2273990534761103,-0.8418450825835155,0.6714966725914858,0.44760865675370687,-0.5172953149172648,-3.183182347329719,0.33706850595892773,2.7062964529319773,2.3058377069959417,2.9449814522926205,0.6883121824779164,-0.9516967134243158,-0.9150151920919766,-0.6144123629985616,0.5558616642215064,-2.1045343339058924,-3.1934713371964296],\"y\":[0.12284848991703641,-0.7556327189422523,-0.584785115881675,2.178363588417615,0.1755722126387691,-2.2858091259732642,-0.7300611379675845,-2.5546719734170336,-0.9438909125153976,-0.517581743625037,-0.8435515943746021,0.7209532513476736,-1.235154868425892,-0.6192101297263222,0.6877609010283203,0.852492882634334,0.8983516852949458,0.5372464426023912,0.9987586578312424,-0.15450537297239558,-1.2486332202952328,0.5876035569966545,-2.7635955684111115,0.021139324922965774,0.03889913951665565,0.04981612312490635,-0.5430165139534142,1.1496200057964165,0.10104413367857096,-2.218884110082296,0.4512495908454439,0.49670899084729914,1.6562067168752668,-1.3829407195526022,-1.5288474755010912,-2.272605190058266,0.44144120931612574,1.3494773148738834,2.7960633020653125,-1.735018757218189,1.5518148175239543,-1.0853718838104731,-0.005794795157518889,0.5437037934064544,-1.1120133272379544,-1.1314035033438312,-1.342847151423767,-1.0532619528148073,-0.7294858521803134,3.036755476202743,-0.7940076352039802,1.3124544815889507,1.3769490492527088,-1.3825741378144523,-2.3981624684586724,0.4107644359980077,0.2871362487743077,-0.6658281591262365,-1.6362697275438145,0.48824900993277737,-2.268092887909121,-0.5541591960618221,-0.7887216624074663,0.9359834422740086,-0.11707690616824899,1.7489826776964215,2.238329805718631,1.6354410976437184,-0.8154330041698925,-0.6875195117156012,-0.9409014645435644,-1.7143050215588884,-0.36393013092984067,2.2219655445766953,-1.347990513388995,-2.2771998956002104,-0.3070054245709572,-3.129128045140808,0.6951332282435894,-0.30516069101975196,-0.2197306709152895,0.4742504018106013,0.1131219119299061,1.6678572366911897,0.7011994546125011,0.20818085901788994,-0.3292750261473406,2.618128098005721,1.353353445960463,0.5008488913380256,0.9376528612488386,6.230834420612424,-0.12188088843804197,0.4403261159418638,0.2783055522527337,2.057845814155473,1.2967160273979332,0.7213464117745093,6.122455987096765,1.7773026230957674,0.535072204603299,0.13075362259639986,0.20769047735871163,0.6806597408079242,-0.3310048825076585,-0.36105029513112424,1.1476285942281026,-2.073160490464567,1.28839966040962,-1.0137298617850408,0.14864865815194322,-2.0359730204496937,1.246107419522983,-0.12140714106681852,-1.8593601613050166,0.6315971783708977,-0.6159084724045637,1.4328505839070014,0.4638345893518262,-1.3960312145281468,-0.12397587683547427,-0.8468670162224932,-1.8640258032486732,-0.25130172883827284,-0.818879880046615,-1.3704146834084938,-1.2868419056058964,-0.028398612479174915,-0.23567542941531397,0.11763158348042842,-1.116866169717895,3.7760337857749295,-0.3035882626383271,8.584812385089167,1.3495104772752344,0.2508797561377308,1.6746589277187887,-0.715293507833644,-0.5491896286380308,-2.292484530463861,-1.2816037978000274,-0.020638321250055425,-0.9884957069173242,-0.12180407255217272,-1.1748789978924914,-0.5517509877207456,-0.037151656842303725,-0.27625706585299015,1.0640689492253512,-1.5128092094295786,1.2312546024276236,-0.11292159158932485,0.2228214451600504,-1.814053153972199,1.659733838891632,-0.4523376767902375,-0.12535438283944667,1.4797913111374628,-1.9724932977462069,-3.850862595975367,-1.8378049598517412,-0.8408494433596051,0.8216873527639905,-1.5852346983528243,1.7867581128135155,-0.14061970996831413,0.6243856858810806],\"z\":[-0.9792693244326127,-0.4547607772263082,1.6657170058690824,2.079640849389588,-0.3078065404674042,1.186380094379582,0.330130877062039,0.2595647182136584,-0.7087844856565999,1.1829186173039432,-0.6655990978158289,1.3517391011149034,0.7181234351664693,-0.9059544770884622,0.6630489108321046,-0.8798716143537042,-0.37577132178036116,-0.35096304095040265,-0.3782022621680675,0.5464750668515977,-2.0841189130250006,-0.7972404513708916,-0.23541561793075852,4.118034951503415,-0.6425620027910874,-0.6214890409647069,-1.8374135546518258,-0.6800634980895369,-0.46768228796211914,-0.5403925008377559,-0.39830685231686486,-0.44122156861066425,-0.14047800487504064,0.20566828880108623,0.5827129536595295,-0.33492287573676194,-0.4478003400740945,-0.0016625120714149242,2.035561435603995,-1.119741510437043,-0.3178229500547663,-0.5587085531809779,0.3508964404714251,-0.7409250286019962,-0.4578517329433934,-0.05009592683878429,-0.37267791617031865,0.7954087868996782,-0.785301114736295,2.4264069177087007,1.09569597720269,-0.15152470877502236,-0.25976929285590905,-0.13696467063529305,-0.9709098404433367,2.0966724336649634,-0.5360700669102056,-1.3277782562848464,-0.8947937892573126,0.5722654393617587,-0.933013000411709,-0.6415582964070082,-0.4536538080413002,0.5332441352993823,-1.643447316321295,-0.6416185153637497,-1.9947734700611786,-0.6308717957224702,0.14154137709618395,0.6408470228921697,1.8764109479843847,1.3947582444447715,0.26213197741760136,-0.7145424369793881,0.10471616453248775,-0.38752966320633664,0.45512120927334876,-0.31323083783814437,-0.7602809208947432,2.035161669823409,-0.3403109176435873,-3.229519808890546,3.616791261368881,-0.5834568341514069,0.18703811685432473,-0.6658140973307953,-0.8440949238482541,-3.4049011617721043,-3.259747357736088,2.0317053040407345,-0.5563820294347843,1.3661651466718376,-0.8963018048778658,0.32024491154224116,-0.2789996286871417,0.7346299466691973,-0.3681606708046926,-0.3390264151570622,-1.3927240820935478,0.9974647807583398,-0.5205894608328261,-3.7010883559597083,-2.135299493843531,2.528796449739109,-1.5049491983078398,-0.3564017410504961,-0.3527847302630666,1.3766001700899746,-0.9989290178892667,0.5315696681011963,-1.0065582419528754,-0.35639931017405485,-0.7929028998379205,8.332177208359372,1.21096952975074,2.9093694335935854,1.3821447505140914,-1.0774538785136285,-0.06364516466071184,0.5513941692980955,0.42149911982312066,-0.42441499861081644,-1.2852319289135608,4.969006009374959,0.11775305885618792,1.4870962017749214,-2.0024470162476504,-0.8705475294420522,2.595143121212373,-0.6913195759198612,-1.3877868528727184,-0.5273155406262526,-1.8603777382578237,0.8924063476505771,-1.16589971452388,-1.093021664475259,-1.6762474362252668,-0.9790613094129986,0.1919241983605496,-0.5186223201583656,2.389460228870462,-0.05256408657750752,0.9992081829569657,0.016399993240385574,-0.13883034469267938,-0.35666127834597133,-0.20203900744618086,-0.12067089085301276,0.4663929369219494,0.5439950298937384,-1.6609875618927865,-0.577220410953513,-0.3315850708990658,0.3077579221565282,0.8171572415405784,-0.955733784851706,-0.12359879527162805,2.493503915152232,-0.34469503558282355,-2.3480556222411995,-0.3333284197924282,0.8453118022740503,-0.5317225283012925,4.229186405650563,-0.3252684712974172,1.51332363404366,0.304323296091124],\"type\":\"scatter3d\"}],                        {\"template\":{\"data\":{\"histogram2dcontour\":[{\"type\":\"histogram2dcontour\",\"colorbar\":{\"outlinewidth\":0,\"ticks\":\"\"},\"colorscale\":[[0.0,\"#0d0887\"],[0.1111111111111111,\"#46039f\"],[0.2222222222222222,\"#7201a8\"],[0.3333333333333333,\"#9c179e\"],[0.4444444444444444,\"#bd3786\"],[0.5555555555555556,\"#d8576b\"],[0.6666666666666666,\"#ed7953\"],[0.7777777777777778,\"#fb9f3a\"],[0.8888888888888888,\"#fdca26\"],[1.0,\"#f0f921\"]]}],\"choropleth\":[{\"type\":\"choropleth\",\"colorbar\":{\"outlinewidth\":0,\"ticks\":\"\"}}],\"histogram2d\":[{\"type\":\"histogram2d\",\"colorbar\":{\"outlinewidth\":0,\"ticks\":\"\"},\"colorscale\":[[0.0,\"#0d0887\"],[0.1111111111111111,\"#46039f\"],[0.2222222222222222,\"#7201a8\"],[0.3333333333333333,\"#9c179e\"],[0.4444444444444444,\"#bd3786\"],[0.5555555555555556,\"#d8576b\"],[0.6666666666666666,\"#ed7953\"],[0.7777777777777778,\"#fb9f3a\"],[0.8888888888888888,\"#fdca26\"],[1.0,\"#f0f921\"]]}],\"heatmap\":[{\"type\":\"heatmap\",\"colorbar\":{\"outlinewidth\":0,\"ticks\":\"\"},\"colorscale\":[[0.0,\"#0d0887\"],[0.1111111111111111,\"#46039f\"],[0.2222222222222222,\"#7201a8\"],[0.3333333333333333,\"#9c179e\"],[0.4444444444444444,\"#bd3786\"],[0.5555555555555556,\"#d8576b\"],[0.6666666666666666,\"#ed7953\"],[0.7777777777777778,\"#fb9f3a\"],[0.8888888888888888,\"#fdca26\"],[1.0,\"#f0f921\"]]}],\"heatmapgl\":[{\"type\":\"heatmapgl\",\"colorbar\":{\"outlinewidth\":0,\"ticks\":\"\"},\"colorscale\":[[0.0,\"#0d0887\"],[0.1111111111111111,\"#46039f\"],[0.2222222222222222,\"#7201a8\"],[0.3333333333333333,\"#9c179e\"],[0.4444444444444444,\"#bd3786\"],[0.5555555555555556,\"#d8576b\"],[0.6666666666666666,\"#ed7953\"],[0.7777777777777778,\"#fb9f3a\"],[0.8888888888888888,\"#fdca26\"],[1.0,\"#f0f921\"]]}],\"contourcarpet\":[{\"type\":\"contourcarpet\",\"colorbar\":{\"outlinewidth\":0,\"ticks\":\"\"}}],\"contour\":[{\"type\":\"contour\",\"colorbar\":{\"outlinewidth\":0,\"ticks\":\"\"},\"colorscale\":[[0.0,\"#0d0887\"],[0.1111111111111111,\"#46039f\"],[0.2222222222222222,\"#7201a8\"],[0.3333333333333333,\"#9c179e\"],[0.4444444444444444,\"#bd3786\"],[0.5555555555555556,\"#d8576b\"],[0.6666666666666666,\"#ed7953\"],[0.7777777777777778,\"#fb9f3a\"],[0.8888888888888888,\"#fdca26\"],[1.0,\"#f0f921\"]]}],\"surface\":[{\"type\":\"surface\",\"colorbar\":{\"outlinewidth\":0,\"ticks\":\"\"},\"colorscale\":[[0.0,\"#0d0887\"],[0.1111111111111111,\"#46039f\"],[0.2222222222222222,\"#7201a8\"],[0.3333333333333333,\"#9c179e\"],[0.4444444444444444,\"#bd3786\"],[0.5555555555555556,\"#d8576b\"],[0.6666666666666666,\"#ed7953\"],[0.7777777777777778,\"#fb9f3a\"],[0.8888888888888888,\"#fdca26\"],[1.0,\"#f0f921\"]]}],\"mesh3d\":[{\"type\":\"mesh3d\",\"colorbar\":{\"outlinewidth\":0,\"ticks\":\"\"}}],\"scatter\":[{\"fillpattern\":{\"fillmode\":\"overlay\",\"size\":10,\"solidity\":0.2},\"type\":\"scatter\"}],\"parcoords\":[{\"type\":\"parcoords\",\"line\":{\"colorbar\":{\"outlinewidth\":0,\"ticks\":\"\"}}}],\"scatterpolargl\":[{\"type\":\"scatterpolargl\",\"marker\":{\"colorbar\":{\"outlinewidth\":0,\"ticks\":\"\"}}}],\"bar\":[{\"error_x\":{\"color\":\"#2a3f5f\"},\"error_y\":{\"color\":\"#2a3f5f\"},\"marker\":{\"line\":{\"color\":\"#E5ECF6\",\"width\":0.5},\"pattern\":{\"fillmode\":\"overlay\",\"size\":10,\"solidity\":0.2}},\"type\":\"bar\"}],\"scattergeo\":[{\"type\":\"scattergeo\",\"marker\":{\"colorbar\":{\"outlinewidth\":0,\"ticks\":\"\"}}}],\"scatterpolar\":[{\"type\":\"scatterpolar\",\"marker\":{\"colorbar\":{\"outlinewidth\":0,\"ticks\":\"\"}}}],\"histogram\":[{\"marker\":{\"pattern\":{\"fillmode\":\"overlay\",\"size\":10,\"solidity\":0.2}},\"type\":\"histogram\"}],\"scattergl\":[{\"type\":\"scattergl\",\"marker\":{\"colorbar\":{\"outlinewidth\":0,\"ticks\":\"\"}}}],\"scatter3d\":[{\"type\":\"scatter3d\",\"line\":{\"colorbar\":{\"outlinewidth\":0,\"ticks\":\"\"}},\"marker\":{\"colorbar\":{\"outlinewidth\":0,\"ticks\":\"\"}}}],\"scattermapbox\":[{\"type\":\"scattermapbox\",\"marker\":{\"colorbar\":{\"outlinewidth\":0,\"ticks\":\"\"}}}],\"scatterternary\":[{\"type\":\"scatterternary\",\"marker\":{\"colorbar\":{\"outlinewidth\":0,\"ticks\":\"\"}}}],\"scattercarpet\":[{\"type\":\"scattercarpet\",\"marker\":{\"colorbar\":{\"outlinewidth\":0,\"ticks\":\"\"}}}],\"carpet\":[{\"aaxis\":{\"endlinecolor\":\"#2a3f5f\",\"gridcolor\":\"white\",\"linecolor\":\"white\",\"minorgridcolor\":\"white\",\"startlinecolor\":\"#2a3f5f\"},\"baxis\":{\"endlinecolor\":\"#2a3f5f\",\"gridcolor\":\"white\",\"linecolor\":\"white\",\"minorgridcolor\":\"white\",\"startlinecolor\":\"#2a3f5f\"},\"type\":\"carpet\"}],\"table\":[{\"cells\":{\"fill\":{\"color\":\"#EBF0F8\"},\"line\":{\"color\":\"white\"}},\"header\":{\"fill\":{\"color\":\"#C8D4E3\"},\"line\":{\"color\":\"white\"}},\"type\":\"table\"}],\"barpolar\":[{\"marker\":{\"line\":{\"color\":\"#E5ECF6\",\"width\":0.5},\"pattern\":{\"fillmode\":\"overlay\",\"size\":10,\"solidity\":0.2}},\"type\":\"barpolar\"}],\"pie\":[{\"automargin\":true,\"type\":\"pie\"}]},\"layout\":{\"autotypenumbers\":\"strict\",\"colorway\":[\"#636efa\",\"#EF553B\",\"#00cc96\",\"#ab63fa\",\"#FFA15A\",\"#19d3f3\",\"#FF6692\",\"#B6E880\",\"#FF97FF\",\"#FECB52\"],\"font\":{\"color\":\"#2a3f5f\"},\"hovermode\":\"closest\",\"hoverlabel\":{\"align\":\"left\"},\"paper_bgcolor\":\"white\",\"plot_bgcolor\":\"#E5ECF6\",\"polar\":{\"bgcolor\":\"#E5ECF6\",\"angularaxis\":{\"gridcolor\":\"white\",\"linecolor\":\"white\",\"ticks\":\"\"},\"radialaxis\":{\"gridcolor\":\"white\",\"linecolor\":\"white\",\"ticks\":\"\"}},\"ternary\":{\"bgcolor\":\"#E5ECF6\",\"aaxis\":{\"gridcolor\":\"white\",\"linecolor\":\"white\",\"ticks\":\"\"},\"baxis\":{\"gridcolor\":\"white\",\"linecolor\":\"white\",\"ticks\":\"\"},\"caxis\":{\"gridcolor\":\"white\",\"linecolor\":\"white\",\"ticks\":\"\"}},\"coloraxis\":{\"colorbar\":{\"outlinewidth\":0,\"ticks\":\"\"}},\"colorscale\":{\"sequential\":[[0.0,\"#0d0887\"],[0.1111111111111111,\"#46039f\"],[0.2222222222222222,\"#7201a8\"],[0.3333333333333333,\"#9c179e\"],[0.4444444444444444,\"#bd3786\"],[0.5555555555555556,\"#d8576b\"],[0.6666666666666666,\"#ed7953\"],[0.7777777777777778,\"#fb9f3a\"],[0.8888888888888888,\"#fdca26\"],[1.0,\"#f0f921\"]],\"sequentialminus\":[[0.0,\"#0d0887\"],[0.1111111111111111,\"#46039f\"],[0.2222222222222222,\"#7201a8\"],[0.3333333333333333,\"#9c179e\"],[0.4444444444444444,\"#bd3786\"],[0.5555555555555556,\"#d8576b\"],[0.6666666666666666,\"#ed7953\"],[0.7777777777777778,\"#fb9f3a\"],[0.8888888888888888,\"#fdca26\"],[1.0,\"#f0f921\"]],\"diverging\":[[0,\"#8e0152\"],[0.1,\"#c51b7d\"],[0.2,\"#de77ae\"],[0.3,\"#f1b6da\"],[0.4,\"#fde0ef\"],[0.5,\"#f7f7f7\"],[0.6,\"#e6f5d0\"],[0.7,\"#b8e186\"],[0.8,\"#7fbc41\"],[0.9,\"#4d9221\"],[1,\"#276419\"]]},\"xaxis\":{\"gridcolor\":\"white\",\"linecolor\":\"white\",\"ticks\":\"\",\"title\":{\"standoff\":15},\"zerolinecolor\":\"white\",\"automargin\":true,\"zerolinewidth\":2},\"yaxis\":{\"gridcolor\":\"white\",\"linecolor\":\"white\",\"ticks\":\"\",\"title\":{\"standoff\":15},\"zerolinecolor\":\"white\",\"automargin\":true,\"zerolinewidth\":2},\"scene\":{\"xaxis\":{\"backgroundcolor\":\"#E5ECF6\",\"gridcolor\":\"white\",\"linecolor\":\"white\",\"showbackground\":true,\"ticks\":\"\",\"zerolinecolor\":\"white\",\"gridwidth\":2},\"yaxis\":{\"backgroundcolor\":\"#E5ECF6\",\"gridcolor\":\"white\",\"linecolor\":\"white\",\"showbackground\":true,\"ticks\":\"\",\"zerolinecolor\":\"white\",\"gridwidth\":2},\"zaxis\":{\"backgroundcolor\":\"#E5ECF6\",\"gridcolor\":\"white\",\"linecolor\":\"white\",\"showbackground\":true,\"ticks\":\"\",\"zerolinecolor\":\"white\",\"gridwidth\":2}},\"shapedefaults\":{\"line\":{\"color\":\"#2a3f5f\"}},\"annotationdefaults\":{\"arrowcolor\":\"#2a3f5f\",\"arrowhead\":0,\"arrowwidth\":1},\"geo\":{\"bgcolor\":\"white\",\"landcolor\":\"#E5ECF6\",\"subunitcolor\":\"white\",\"showland\":true,\"showlakes\":true,\"lakecolor\":\"white\"},\"title\":{\"x\":0.05},\"mapbox\":{\"style\":\"light\"}}},\"scene\":{\"domain\":{\"x\":[0.0,1.0],\"y\":[0.0,1.0]},\"xaxis\":{\"title\":{\"text\":\"cols0\"}},\"yaxis\":{\"title\":{\"text\":\"cols1\"}},\"zaxis\":{\"title\":{\"text\":\"cols2\"}}},\"coloraxis\":{\"colorbar\":{\"title\":{\"text\":\"color\"}},\"colorscale\":[[0.0,\"#0d0887\"],[0.1111111111111111,\"#46039f\"],[0.2222222222222222,\"#7201a8\"],[0.3333333333333333,\"#9c179e\"],[0.4444444444444444,\"#bd3786\"],[0.5555555555555556,\"#d8576b\"],[0.6666666666666666,\"#ed7953\"],[0.7777777777777778,\"#fb9f3a\"],[0.8888888888888888,\"#fdca26\"],[1.0,\"#f0f921\"]]},\"legend\":{\"tracegroupgap\":0},\"margin\":{\"t\":60},\"width\":600},                        {\"responsive\": true}                    ).then(function(){\n",
              "                            \n",
              "var gd = document.getElementById('14bebed0-0224-418b-9a61-1d6397004019');\n",
              "var x = new MutationObserver(function (mutations, observer) {{\n",
              "        var display = window.getComputedStyle(gd).display;\n",
              "        if (!display || display === 'none') {{\n",
              "            console.log([gd, 'removed!']);\n",
              "            Plotly.purge(gd);\n",
              "            observer.disconnect();\n",
              "        }}\n",
              "}});\n",
              "\n",
              "// Listen for the removal of the full notebook cells\n",
              "var notebookContainer = gd.closest('#notebook-container');\n",
              "if (notebookContainer) {{\n",
              "    x.observe(notebookContainer, {childList: true});\n",
              "}}\n",
              "\n",
              "// Listen for the clearing of the current output cell\n",
              "var outputEl = gd.closest('.output');\n",
              "if (outputEl) {{\n",
              "    x.observe(outputEl, {childList: true});\n",
              "}}\n",
              "\n",
              "                        })                };                });            </script>        </div>"
            ]
          },
          "metadata": {},
          "output_type": "display_data"
        }
      ],
      "source": [
        "\n",
        "import plotly.express as px\n",
        "px.scatter_3d(data_frame = reduced_data, x='cols0', y='cols1',\n",
        "              z='cols2', width=600, color=preds)\n"
      ]
    },
    {
      "cell_type": "markdown",
      "id": "3285b3d1",
      "metadata": {
        "id": "3285b3d1"
      },
      "source": [
        "#### Insight\n",
        "\n",
        "The 3D scatter plot reveals insights into the clustering patterns of countries based on the reduced dimension derived from socio-economic and health-related features. The following observations are pertinent:\n",
        "\n",
        "1. **Clustering Patterns:**\n",
        "   - The presence of distinct clusters indicates that countries can be grouped into categories with similar socio-economic and health profiles. These clusters likely represent countries with comparable levels of development, healthcare infrastructure, or economic stability.\n",
        "   - For instance, one cluster might correspond to developed countries with high income, low child mortality, and high life expectancy, while another cluster could represent developing countries with contrasting characteristics.\n",
        "\n",
        "2. **Outliers:**\n",
        "   - Certain points appear distant from the main clusters. These outliers could represent countries with unique socio-economic or health conditions that set them apart from typical groupings. For example, a country with a high GDP but poor healthcare outcomes might stand out.\n",
        "\n",
        "3. **Feature Contribution:**\n",
        "   - The axes of the scatter plot (or principal components) summarize the variance in the original data. Features such as GDP per capita, life expectancy, and child mortality are likely contributing significantly to the separation of clusters. The principal components help identify the most influential factors driving the clustering.\n",
        "\n",
        "These findings support the project's objective of categorizing countries to aid strategic allocation of resources by HELP International. The distinct groupings suggest that the organization can prioritize interventions by targeting clusters of countries with similar development needs. Further investigation of outliers could also highlight unique cases that require specialized strategies."
      ]
    },
    {
      "cell_type": "markdown",
      "id": "7ea8de84",
      "metadata": {
        "id": "7ea8de84"
      },
      "source": [
        "The project on **Unsupervised Learning for Country Clustering** began with an objective to categorize countries based on socio-economic and health indicators. The primary goal was to provide HELP International with data-driven insights for prioritizing aid allocation. The dataset comprised variables such as GDP per capita, child mortality, health index, income levels, life expectancy, and inflation, among others. These indicators were chosen to reflect the economic and healthcare conditions of the countries.\n",
        "\n",
        "The data preprocessing phase involved standardization to ensure all features contributed equally to the clustering process. Following this, dimensionality reduction using **Principal Component Analysis (PCA)** was applied to reduce the feature space while retaining 95% of the data's variance. PCA successfully reduced the dataset to 158 components, simplifying the complexity without compromising critical information.\n",
        "\n",
        "To identify distinct groupings, the **K-Means clustering algorithm** was employed. Using the Elbow Method, the optimal number of clusters was determined to be seven. The clustering results revealed meaningful patterns, grouping countries with similar socio-economic and health profiles. Each cluster's mean was calculated to better understand the characteristics shared by the countries within.\n",
        "\n",
        "Visualization using **3D scatter plots** provided an intuitive representation of the clusters. When plotting key features such as GDP per capita, income, and life expectancy, the clusters illustrated stark differences in development levels. This highlighted distinct groupings, such as countries with high GDP and life expectancy or nations grappling with low income and high child mortality. The PCA-transformed data further validated these groupings, showcasing clusters with well-separated boundaries. Notable outliers were also observed, warranting further investigation into unique cases.\n",
        "\n",
        "The insights from this analysis underline the effectiveness of unsupervised learning in uncovering hidden patterns in socio-economic data. The clustering results offer HELP International a clear framework to allocate their $10 million budget. By focusing on clusters representing countries with dire needs, the NGO can maximize its impact, ensuring aid reaches the most vulnerable populations."
      ]
    },
    {
      "cell_type": "code",
      "execution_count": null,
      "id": "c0d95db2",
      "metadata": {
        "id": "c0d95db2"
      },
      "outputs": [],
      "source": []
    }
  ],
  "metadata": {
    "kernelspec": {
      "display_name": "Python 3 (ipykernel)",
      "language": "python",
      "name": "python3"
    },
    "language_info": {
      "codemirror_mode": {
        "name": "ipython",
        "version": 3
      },
      "file_extension": ".py",
      "mimetype": "text/x-python",
      "name": "python",
      "nbconvert_exporter": "python",
      "pygments_lexer": "ipython3",
      "version": "3.11.4"
    },
    "colab": {
      "provenance": [],
      "include_colab_link": true
    }
  },
  "nbformat": 4,
  "nbformat_minor": 5
}